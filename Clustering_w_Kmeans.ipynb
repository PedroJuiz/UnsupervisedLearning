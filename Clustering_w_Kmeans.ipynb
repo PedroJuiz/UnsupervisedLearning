{
  "cells": [
    {
      "cell_type": "markdown",
      "metadata": {
        "id": "view-in-github",
        "colab_type": "text"
      },
      "source": [
        "<a href=\"https://colab.research.google.com/github/PedroJuiz/UnsupervisedLearning/blob/main/Clustering_w_Kmeans.ipynb\" target=\"_parent\"><img src=\"https://colab.research.google.com/assets/colab-badge.svg\" alt=\"Open In Colab\"/></a>"
      ]
    },
    {
      "cell_type": "markdown",
      "metadata": {
        "id": "PvLnXiHaEy2b"
      },
      "source": [
        "<center style=\"color:#888\">Módulo Data Science in IoT<br/>Asignatura Machine Learning 2 (Unsupervised learning)</center>\n",
        "\n",
        "# Challenge S4: Aprendizaje no supervisado: Clusterización"
      ]
    },
    {
      "cell_type": "markdown",
      "metadata": {
        "id": "VmNdd30xEy2b"
      },
      "source": [
        "<font size=\"5\"><center><span style=\"color:blue\">***Nombre y Apellidos: Pedro Juiz Díaz***</span></center></font>"
      ]
    },
    {
      "cell_type": "markdown",
      "metadata": {
        "id": "Hh4ITKNFEy2b"
      },
      "source": [
        "# Método KMeans"
      ]
    },
    {
      "cell_type": "markdown",
      "metadata": {
        "id": "Hxt52hc8Ey2c"
      },
      "source": [
        "K-means es un método de clustering que separa los datos en ‘K’ grupos de objetos (Clusteres) de similar varianza, minimizando la suma de las distancias al cuadrado de cada objeto del Cluster a un punto medio de todos los objetos del clúster, conocido como el centroide."
      ]
    },
    {
      "cell_type": "markdown",
      "metadata": {
        "id": "5mNIayLdEy2c"
      },
      "source": [
        "Queremos hacer la tarea de agrupar distintos tipos de cereales según su información nutricional. Tenemos distintos fabricantes de cereales y deseamos realizar un estudio para ver a qué tipo de consumidores debería dirigirse cada fabricante, utilizando el análisis de clúster.\n",
        "\n",
        "Nuestra base de datos está formada por 77 cereales distintos y tenemos 16 variables.\n"
      ]
    },
    {
      "cell_type": "markdown",
      "metadata": {
        "id": "IH4i3STlEy2c"
      },
      "source": [
        "Veámoslas:\n",
        "* Name: Nombre de los cereales\n",
        "* Mfr: Fabricante de los cereales\n",
        "    \n",
        "    1.\tA = American Home Food Products\n",
        "    2.\tG = General Mills\n",
        "    3.\tK = Kelloggs\n",
        "    4.\tN = Nabisco\n",
        "    5.\tP = Post\n",
        "    6.\tQ = Quaker Oats\n",
        "    7.\tR = Ralston Purina\n",
        "\n",
        "\n",
        "* Type: Tipo\n",
        "    1.\tC = Cold\n",
        "    2.\tH = Hot\n",
        "\n",
        "\n",
        "* Calories: Calorías por porción\n",
        "* Protein: Gramos de proteínas\n",
        "* Fat: Gramos de grasa\n",
        "* Sodium: Miligramos de sodio\n",
        "* Fiber: Gramos de fibra dietética\n",
        "* Carbo: Gramos de carbohidratos\n",
        "* Sugars: Gramos de azúcares\n",
        "* Potass: Miligramos de potasio\n",
        "* Vitamins: Vitaminas y minerales. 25 o 100 indica el porcentaje típico de la FDA recomendado.\n",
        "* Shelf: Estante de demostración (1, 2 o 3)\n",
        "* Weight: Peso en onzas de una porción\n",
        "* Cups: Numero de tazas en una porción\n",
        "* Rating: La calificación de  los consumidores\n"
      ]
    },
    {
      "cell_type": "markdown",
      "metadata": {
        "id": "JPyS0LjAEy2d"
      },
      "source": [
        "Primero cargamos las librerías que necesitamos"
      ]
    },
    {
      "cell_type": "code",
      "execution_count": null,
      "metadata": {
        "id": "rLzD9WSiEy2d"
      },
      "outputs": [],
      "source": [
        "import pandas as pd\n",
        "import numpy as np\n",
        "import matplotlib.pyplot as plt\n",
        "import seaborn as sb\n",
        "from sklearn.cluster import KMeans\n",
        "from sklearn.metrics import pairwise_distances_argmin_min\n",
        "\n",
        "%matplotlib inline\n",
        "from mpl_toolkits.mplot3d import Axes3D\n",
        "plt.rcParams['figure.figsize'] = (17, 10)\n",
        "plt.style.use('ggplot')"
      ]
    },
    {
      "cell_type": "markdown",
      "metadata": {
        "id": "6QpvI1_VEy2e"
      },
      "source": [
        "y leemos los datos y hacemos una primera fase de preprocessing"
      ]
    },
    {
      "cell_type": "code",
      "execution_count": null,
      "metadata": {
        "scrolled": true,
        "id": "UT7_svxHEy2f",
        "outputId": "21e3b71c-3c06-4b76-8b9f-594153dc9eec"
      },
      "outputs": [
        {
          "data": {
            "text/html": [
              "<div>\n",
              "<style scoped>\n",
              "    .dataframe tbody tr th:only-of-type {\n",
              "        vertical-align: middle;\n",
              "    }\n",
              "\n",
              "    .dataframe tbody tr th {\n",
              "        vertical-align: top;\n",
              "    }\n",
              "\n",
              "    .dataframe thead th {\n",
              "        text-align: right;\n",
              "    }\n",
              "</style>\n",
              "<table border=\"1\" class=\"dataframe\">\n",
              "  <thead>\n",
              "    <tr style=\"text-align: right;\">\n",
              "      <th></th>\n",
              "      <th>name</th>\n",
              "      <th>mfr</th>\n",
              "      <th>type</th>\n",
              "      <th>calories</th>\n",
              "      <th>protein</th>\n",
              "      <th>fat</th>\n",
              "      <th>sodium</th>\n",
              "      <th>fiber</th>\n",
              "      <th>carbo</th>\n",
              "      <th>sugars</th>\n",
              "      <th>potass</th>\n",
              "      <th>vitamins</th>\n",
              "      <th>shelf</th>\n",
              "      <th>weight</th>\n",
              "      <th>cups</th>\n",
              "      <th>rating</th>\n",
              "    </tr>\n",
              "  </thead>\n",
              "  <tbody>\n",
              "    <tr>\n",
              "      <th>0</th>\n",
              "      <td>100% Bran</td>\n",
              "      <td>N</td>\n",
              "      <td>C</td>\n",
              "      <td>70</td>\n",
              "      <td>4</td>\n",
              "      <td>1</td>\n",
              "      <td>130</td>\n",
              "      <td>10.0</td>\n",
              "      <td>5.0</td>\n",
              "      <td>6</td>\n",
              "      <td>280</td>\n",
              "      <td>25</td>\n",
              "      <td>3</td>\n",
              "      <td>1.0</td>\n",
              "      <td>0.33</td>\n",
              "      <td>68.402973</td>\n",
              "    </tr>\n",
              "    <tr>\n",
              "      <th>1</th>\n",
              "      <td>100% Natural Bran</td>\n",
              "      <td>Q</td>\n",
              "      <td>C</td>\n",
              "      <td>120</td>\n",
              "      <td>3</td>\n",
              "      <td>5</td>\n",
              "      <td>15</td>\n",
              "      <td>2.0</td>\n",
              "      <td>8.0</td>\n",
              "      <td>8</td>\n",
              "      <td>135</td>\n",
              "      <td>0</td>\n",
              "      <td>3</td>\n",
              "      <td>1.0</td>\n",
              "      <td>1.00</td>\n",
              "      <td>33.983679</td>\n",
              "    </tr>\n",
              "    <tr>\n",
              "      <th>2</th>\n",
              "      <td>All-Bran</td>\n",
              "      <td>K</td>\n",
              "      <td>C</td>\n",
              "      <td>70</td>\n",
              "      <td>4</td>\n",
              "      <td>1</td>\n",
              "      <td>260</td>\n",
              "      <td>9.0</td>\n",
              "      <td>7.0</td>\n",
              "      <td>5</td>\n",
              "      <td>320</td>\n",
              "      <td>25</td>\n",
              "      <td>3</td>\n",
              "      <td>1.0</td>\n",
              "      <td>0.33</td>\n",
              "      <td>59.425505</td>\n",
              "    </tr>\n",
              "    <tr>\n",
              "      <th>3</th>\n",
              "      <td>All-Bran with Extra Fiber</td>\n",
              "      <td>K</td>\n",
              "      <td>C</td>\n",
              "      <td>50</td>\n",
              "      <td>4</td>\n",
              "      <td>0</td>\n",
              "      <td>140</td>\n",
              "      <td>14.0</td>\n",
              "      <td>8.0</td>\n",
              "      <td>0</td>\n",
              "      <td>330</td>\n",
              "      <td>25</td>\n",
              "      <td>3</td>\n",
              "      <td>1.0</td>\n",
              "      <td>0.50</td>\n",
              "      <td>93.704912</td>\n",
              "    </tr>\n",
              "    <tr>\n",
              "      <th>4</th>\n",
              "      <td>Almond Delight</td>\n",
              "      <td>R</td>\n",
              "      <td>C</td>\n",
              "      <td>110</td>\n",
              "      <td>2</td>\n",
              "      <td>2</td>\n",
              "      <td>200</td>\n",
              "      <td>1.0</td>\n",
              "      <td>14.0</td>\n",
              "      <td>8</td>\n",
              "      <td>-1</td>\n",
              "      <td>25</td>\n",
              "      <td>3</td>\n",
              "      <td>1.0</td>\n",
              "      <td>0.75</td>\n",
              "      <td>34.384843</td>\n",
              "    </tr>\n",
              "  </tbody>\n",
              "</table>\n",
              "</div>"
            ],
            "text/plain": [
              "                        name mfr type  calories  protein  fat  sodium  fiber  \\\n",
              "0                  100% Bran   N    C        70        4    1     130   10.0   \n",
              "1          100% Natural Bran   Q    C       120        3    5      15    2.0   \n",
              "2                   All-Bran   K    C        70        4    1     260    9.0   \n",
              "3  All-Bran with Extra Fiber   K    C        50        4    0     140   14.0   \n",
              "4             Almond Delight   R    C       110        2    2     200    1.0   \n",
              "\n",
              "   carbo  sugars  potass  vitamins  shelf  weight  cups     rating  \n",
              "0    5.0       6     280        25      3     1.0  0.33  68.402973  \n",
              "1    8.0       8     135         0      3     1.0  1.00  33.983679  \n",
              "2    7.0       5     320        25      3     1.0  0.33  59.425505  \n",
              "3    8.0       0     330        25      3     1.0  0.50  93.704912  \n",
              "4   14.0       8      -1        25      3     1.0  0.75  34.384843  "
            ]
          },
          "execution_count": 20,
          "metadata": {},
          "output_type": "execute_result"
        }
      ],
      "source": [
        "df = pd.read_csv(\"cereal.csv\")\n",
        "df.head()"
      ]
    },
    {
      "cell_type": "markdown",
      "metadata": {
        "id": "m9LJZSoPEy2f"
      },
      "source": [
        "Vamos a trabajar con 3 columnas que son calorías, azucares y grasas porque cada día hay una mayor conciencia de tomar comida saludable y queremos ver respecto a esos 3 factores como quedan agrupados nuestra lista de cereales.\n",
        "\n",
        "Definimos nuestras variables X y empezamos llamando X a la matriz formada por las columnas de las calorías, los azúcares y las grasas."
      ]
    },
    {
      "cell_type": "code",
      "execution_count": null,
      "metadata": {
        "id": "_dMA6dRvEy2f",
        "outputId": "060a6bfc-1a8d-4c51-c7aa-eb8672a326b9"
      },
      "outputs": [
        {
          "data": {
            "text/plain": [
              "(77, 3)"
            ]
          },
          "execution_count": 21,
          "metadata": {},
          "output_type": "execute_result"
        }
      ],
      "source": [
        "X = np.array(df[[\"calories\",\"sugars\",\"fat\"]])\n",
        "X.shape"
      ]
    },
    {
      "cell_type": "markdown",
      "metadata": {
        "id": "6NSdy4JgEy2f"
      },
      "source": [
        "Por análisis previos, sabemos que con 3 clústeres es suficiente pero también podemos usar lo siguiente:"
      ]
    },
    {
      "cell_type": "code",
      "execution_count": null,
      "metadata": {
        "id": "uERAHFcGEy2f",
        "outputId": "1ae1937f-e4c5-4f2a-f9c9-3a601d8be419"
      },
      "outputs": [
        {
          "name": "stderr",
          "output_type": "stream",
          "text": [
            "C:\\Users\\Pedro\\anaconda3\\lib\\site-packages\\sklearn\\cluster\\_kmeans.py:1332: UserWarning: KMeans is known to have a memory leak on Windows with MKL, when there are less chunks than available threads. You can avoid it by setting the environment variable OMP_NUM_THREADS=1.\n",
            "  warnings.warn(\n",
            "C:\\Users\\Pedro\\anaconda3\\lib\\site-packages\\sklearn\\cluster\\_kmeans.py:1332: UserWarning: KMeans is known to have a memory leak on Windows with MKL, when there are less chunks than available threads. You can avoid it by setting the environment variable OMP_NUM_THREADS=1.\n",
            "  warnings.warn(\n",
            "C:\\Users\\Pedro\\anaconda3\\lib\\site-packages\\sklearn\\cluster\\_kmeans.py:1332: UserWarning: KMeans is known to have a memory leak on Windows with MKL, when there are less chunks than available threads. You can avoid it by setting the environment variable OMP_NUM_THREADS=1.\n",
            "  warnings.warn(\n",
            "C:\\Users\\Pedro\\anaconda3\\lib\\site-packages\\sklearn\\cluster\\_kmeans.py:1332: UserWarning: KMeans is known to have a memory leak on Windows with MKL, when there are less chunks than available threads. You can avoid it by setting the environment variable OMP_NUM_THREADS=1.\n",
            "  warnings.warn(\n",
            "C:\\Users\\Pedro\\anaconda3\\lib\\site-packages\\sklearn\\cluster\\_kmeans.py:1332: UserWarning: KMeans is known to have a memory leak on Windows with MKL, when there are less chunks than available threads. You can avoid it by setting the environment variable OMP_NUM_THREADS=1.\n",
            "  warnings.warn(\n",
            "C:\\Users\\Pedro\\anaconda3\\lib\\site-packages\\sklearn\\cluster\\_kmeans.py:1332: UserWarning: KMeans is known to have a memory leak on Windows with MKL, when there are less chunks than available threads. You can avoid it by setting the environment variable OMP_NUM_THREADS=1.\n",
            "  warnings.warn(\n"
          ]
        },
        {
          "data": {
            "image/png": "[encoded data removed]",
            "text/plain": [
              "<Figure size 1224x720 with 1 Axes>"
            ]
          },
          "metadata": {},
          "output_type": "display_data"
        }
      ],
      "source": [
        "Nc = range(2, 8)\n",
        "kmeans = [KMeans(n_clusters=i) for i in Nc]\n",
        "kmeans\n",
        "score = [kmeans[i].fit(X).score(X) for i in range(len(kmeans))]\n",
        "score\n",
        "plt.plot(Nc,score)\n",
        "plt.xlabel('Número de clústeres')\n",
        "plt.ylabel('Puntuación')\n",
        "plt.title(\"Punto de codo\")\n",
        "plt.show()"
      ]
    },
    {
      "cell_type": "markdown",
      "metadata": {
        "id": "XxL-e3Q4Ey2g"
      },
      "source": [
        "Luego ejecutamos el algoritmo K-means para 3 clusters y obtenemos las etiquetas y los centroides. Las posiciones iniciales de los 3 centroides son asignadas de manera aleatoria."
      ]
    },
    {
      "cell_type": "code",
      "execution_count": null,
      "metadata": {
        "id": "mttIx-ZnEy2g"
      },
      "outputs": [],
      "source": [
        "kmeans = KMeans(n_clusters=3, random_state=42)"
      ]
    },
    {
      "cell_type": "markdown",
      "metadata": {
        "id": "imc7EchgEy2g"
      },
      "source": [
        "Cuando se agrupan los datos se asignan etiquetas para poder hacer la agrupación"
      ]
    },
    {
      "cell_type": "code",
      "execution_count": null,
      "metadata": {
        "id": "EpTygQfvEy2g",
        "outputId": "6c0299ed-f43c-4089-b7bd-bf9fc54ae183"
      },
      "outputs": [
        {
          "name": "stderr",
          "output_type": "stream",
          "text": [
            "C:\\Users\\Pedro\\anaconda3\\lib\\site-packages\\sklearn\\cluster\\_kmeans.py:1332: UserWarning: KMeans is known to have a memory leak on Windows with MKL, when there are less chunks than available threads. You can avoid it by setting the environment variable OMP_NUM_THREADS=1.\n",
            "  warnings.warn(\n"
          ]
        }
      ],
      "source": [
        "labels = kmeans.fit_predict(X)"
      ]
    },
    {
      "cell_type": "code",
      "execution_count": null,
      "metadata": {
        "id": "tro9sdJVEy2g",
        "outputId": "19f90274-ef74-489c-8574-5fcb9a643f91"
      },
      "outputs": [
        {
          "data": {
            "text/html": [
              "<div>\n",
              "<style scoped>\n",
              "    .dataframe tbody tr th:only-of-type {\n",
              "        vertical-align: middle;\n",
              "    }\n",
              "\n",
              "    .dataframe tbody tr th {\n",
              "        vertical-align: top;\n",
              "    }\n",
              "\n",
              "    .dataframe thead th {\n",
              "        text-align: right;\n",
              "    }\n",
              "</style>\n",
              "<table border=\"1\" class=\"dataframe\">\n",
              "  <thead>\n",
              "    <tr style=\"text-align: right;\">\n",
              "      <th></th>\n",
              "      <th>name</th>\n",
              "      <th>mfr</th>\n",
              "      <th>type</th>\n",
              "      <th>calories</th>\n",
              "      <th>protein</th>\n",
              "      <th>fat</th>\n",
              "      <th>sodium</th>\n",
              "      <th>fiber</th>\n",
              "      <th>carbo</th>\n",
              "      <th>sugars</th>\n",
              "      <th>potass</th>\n",
              "      <th>vitamins</th>\n",
              "      <th>shelf</th>\n",
              "      <th>weight</th>\n",
              "      <th>cups</th>\n",
              "      <th>rating</th>\n",
              "      <th>labels</th>\n",
              "    </tr>\n",
              "  </thead>\n",
              "  <tbody>\n",
              "    <tr>\n",
              "      <th>0</th>\n",
              "      <td>100% Bran</td>\n",
              "      <td>N</td>\n",
              "      <td>C</td>\n",
              "      <td>70</td>\n",
              "      <td>4</td>\n",
              "      <td>1</td>\n",
              "      <td>130</td>\n",
              "      <td>10.0</td>\n",
              "      <td>5.0</td>\n",
              "      <td>6</td>\n",
              "      <td>280</td>\n",
              "      <td>25</td>\n",
              "      <td>3</td>\n",
              "      <td>1.0</td>\n",
              "      <td>0.33</td>\n",
              "      <td>68.402973</td>\n",
              "      <td>2</td>\n",
              "    </tr>\n",
              "    <tr>\n",
              "      <th>1</th>\n",
              "      <td>100% Natural Bran</td>\n",
              "      <td>Q</td>\n",
              "      <td>C</td>\n",
              "      <td>120</td>\n",
              "      <td>3</td>\n",
              "      <td>5</td>\n",
              "      <td>15</td>\n",
              "      <td>2.0</td>\n",
              "      <td>8.0</td>\n",
              "      <td>8</td>\n",
              "      <td>135</td>\n",
              "      <td>0</td>\n",
              "      <td>3</td>\n",
              "      <td>1.0</td>\n",
              "      <td>1.00</td>\n",
              "      <td>33.983679</td>\n",
              "      <td>0</td>\n",
              "    </tr>\n",
              "    <tr>\n",
              "      <th>2</th>\n",
              "      <td>All-Bran</td>\n",
              "      <td>K</td>\n",
              "      <td>C</td>\n",
              "      <td>70</td>\n",
              "      <td>4</td>\n",
              "      <td>1</td>\n",
              "      <td>260</td>\n",
              "      <td>9.0</td>\n",
              "      <td>7.0</td>\n",
              "      <td>5</td>\n",
              "      <td>320</td>\n",
              "      <td>25</td>\n",
              "      <td>3</td>\n",
              "      <td>1.0</td>\n",
              "      <td>0.33</td>\n",
              "      <td>59.425505</td>\n",
              "      <td>2</td>\n",
              "    </tr>\n",
              "    <tr>\n",
              "      <th>3</th>\n",
              "      <td>All-Bran with Extra Fiber</td>\n",
              "      <td>K</td>\n",
              "      <td>C</td>\n",
              "      <td>50</td>\n",
              "      <td>4</td>\n",
              "      <td>0</td>\n",
              "      <td>140</td>\n",
              "      <td>14.0</td>\n",
              "      <td>8.0</td>\n",
              "      <td>0</td>\n",
              "      <td>330</td>\n",
              "      <td>25</td>\n",
              "      <td>3</td>\n",
              "      <td>1.0</td>\n",
              "      <td>0.50</td>\n",
              "      <td>93.704912</td>\n",
              "      <td>2</td>\n",
              "    </tr>\n",
              "    <tr>\n",
              "      <th>4</th>\n",
              "      <td>Almond Delight</td>\n",
              "      <td>R</td>\n",
              "      <td>C</td>\n",
              "      <td>110</td>\n",
              "      <td>2</td>\n",
              "      <td>2</td>\n",
              "      <td>200</td>\n",
              "      <td>1.0</td>\n",
              "      <td>14.0</td>\n",
              "      <td>8</td>\n",
              "      <td>-1</td>\n",
              "      <td>25</td>\n",
              "      <td>3</td>\n",
              "      <td>1.0</td>\n",
              "      <td>0.75</td>\n",
              "      <td>34.384843</td>\n",
              "      <td>0</td>\n",
              "    </tr>\n",
              "  </tbody>\n",
              "</table>\n",
              "</div>"
            ],
            "text/plain": [
              "                        name mfr type  calories  protein  fat  sodium  fiber  \\\n",
              "0                  100% Bran   N    C        70        4    1     130   10.0   \n",
              "1          100% Natural Bran   Q    C       120        3    5      15    2.0   \n",
              "2                   All-Bran   K    C        70        4    1     260    9.0   \n",
              "3  All-Bran with Extra Fiber   K    C        50        4    0     140   14.0   \n",
              "4             Almond Delight   R    C       110        2    2     200    1.0   \n",
              "\n",
              "   carbo  sugars  potass  vitamins  shelf  weight  cups     rating  labels  \n",
              "0    5.0       6     280        25      3     1.0  0.33  68.402973       2  \n",
              "1    8.0       8     135         0      3     1.0  1.00  33.983679       0  \n",
              "2    7.0       5     320        25      3     1.0  0.33  59.425505       2  \n",
              "3    8.0       0     330        25      3     1.0  0.50  93.704912       2  \n",
              "4   14.0       8      -1        25      3     1.0  0.75  34.384843       0  "
            ]
          },
          "execution_count": 40,
          "metadata": {},
          "output_type": "execute_result"
        }
      ],
      "source": [
        "df['labels'] = labels\n",
        "df.head()"
      ]
    },
    {
      "cell_type": "code",
      "execution_count": null,
      "metadata": {
        "id": "78pKagFpEy2g",
        "outputId": "328f784a-43fc-4922-da30-f8bae0a32656"
      },
      "outputs": [
        {
          "data": {
            "text/plain": [
              "array([[106.66666667,   6.96825397,   0.95238095],\n",
              "       [142.5       ,  10.375     ,   2.        ],\n",
              "       [ 61.66666667,   1.83333333,   0.33333333]])"
            ]
          },
          "execution_count": 30,
          "metadata": {},
          "output_type": "execute_result"
        }
      ],
      "source": [
        "kmeans.cluster_centers_"
      ]
    },
    {
      "cell_type": "code",
      "execution_count": null,
      "metadata": {
        "id": "aNp_fsH_Ey2h",
        "outputId": "241e32ea-d6e1-418d-b84b-b8ac1d9733aa"
      },
      "outputs": [
        {
          "data": {
            "text/plain": [
              "array([[ 70,   6,   1],\n",
              "       [120,   8,   5],\n",
              "       [ 70,   5,   1],\n",
              "       [ 50,   0,   0],\n",
              "       [110,   8,   2],\n",
              "       [110,  10,   2],\n",
              "       [110,  14,   0],\n",
              "       [130,   8,   2],\n",
              "       [ 90,   6,   1],\n",
              "       [ 90,   5,   0],\n",
              "       [120,  12,   2],\n",
              "       [110,   1,   2],\n",
              "       [120,   9,   3],\n",
              "       [110,   7,   2],\n",
              "       [110,  13,   1],\n",
              "       [110,   3,   0],\n",
              "       [100,   2,   0],\n",
              "       [110,  12,   0],\n",
              "       [110,  13,   1],\n",
              "       [110,   7,   3],\n",
              "       [100,   0,   0],\n",
              "       [110,   3,   0],\n",
              "       [100,  10,   1],\n",
              "       [100,   5,   0],\n",
              "       [110,  13,   1],\n",
              "       [110,  11,   0],\n",
              "       [100,   7,   0],\n",
              "       [120,  10,   2],\n",
              "       [120,  12,   0],\n",
              "       [110,  12,   1],\n",
              "       [100,  15,   0],\n",
              "       [110,   9,   1],\n",
              "       [100,   5,   1],\n",
              "       [110,   3,   0],\n",
              "       [120,   4,   3],\n",
              "       [120,  11,   2],\n",
              "       [110,  10,   1],\n",
              "       [110,  11,   0],\n",
              "       [110,   6,   1],\n",
              "       [140,   9,   1],\n",
              "       [110,   3,   1],\n",
              "       [100,   6,   2],\n",
              "       [110,  12,   1],\n",
              "       [100,   3,   1],\n",
              "       [150,  11,   3],\n",
              "       [150,  11,   3],\n",
              "       [160,  13,   2],\n",
              "       [100,   6,   1],\n",
              "       [120,   9,   1],\n",
              "       [140,   7,   2],\n",
              "       [ 90,   2,   0],\n",
              "       [130,  10,   2],\n",
              "       [120,  14,   1],\n",
              "       [100,   3,   0],\n",
              "       [ 50,   0,   0],\n",
              "       [ 50,   0,   0],\n",
              "       [100,   6,   1],\n",
              "       [100,  -1,   2],\n",
              "       [120,  12,   1],\n",
              "       [100,   8,   2],\n",
              "       [ 90,   6,   0],\n",
              "       [110,   2,   0],\n",
              "       [110,   3,   0],\n",
              "       [ 80,   0,   0],\n",
              "       [ 90,   0,   0],\n",
              "       [ 90,   0,   0],\n",
              "       [110,  15,   1],\n",
              "       [110,   3,   0],\n",
              "       [ 90,   5,   0],\n",
              "       [110,   3,   1],\n",
              "       [140,  14,   1],\n",
              "       [100,   3,   1],\n",
              "       [110,   3,   1],\n",
              "       [110,  12,   1],\n",
              "       [100,   3,   1],\n",
              "       [100,   3,   1],\n",
              "       [110,   8,   1]], dtype=int64)"
            ]
          },
          "execution_count": 29,
          "metadata": {},
          "output_type": "execute_result"
        }
      ],
      "source": [
        "X"
      ]
    },
    {
      "cell_type": "markdown",
      "metadata": {
        "id": "AU45wkUhEy2h"
      },
      "source": [
        "¿Puedes ver como se agrupan los 77 tipos de cereales por su información nutricional teniendo en cuenta las calorías, azucares y grasas en 3 clusteres?\n"
      ]
    },
    {
      "cell_type": "markdown",
      "metadata": {
        "id": "4mFZrsVGEy2h"
      },
      "source": [
        "Realiza 3 gráficas en 2 dimensiones (caloriasXazucar, caloriasXgrasas, grasasXazucares) con las proyecciones a partir de nuestra gráfica 3D para que nos ayude a visualizar los grupos y su clasificación.\n",
        "Primero hagamosla gráfica entre calorías y azucar y como quedan los clusters:"
      ]
    },
    {
      "cell_type": "code",
      "execution_count": null,
      "metadata": {
        "id": "9NNDnn39Ey2h",
        "outputId": "7d1b409e-3ced-41a3-b384-3d6b569f3422"
      },
      "outputs": [
        {
          "data": {
            "image/png": "[encoded data removed]",
            "text/plain": [
              "<Figure size 1224x720 with 1 Axes>"
            ]
          },
          "metadata": {},
          "output_type": "display_data"
        }
      ],
      "source": [
        "calories = X[:,0]\n",
        "sugars = X[:,1]\n",
        "\n",
        "plt.scatter(calories, sugars, c=labels)\n",
        "plt.xlabel(\"Calories\")\n",
        "plt.ylabel(\"Sugars\")\n",
        "plt.title(\"K-means Clustering (Calories vs. Sugars)\")\n",
        "plt.show()"
      ]
    },
    {
      "cell_type": "markdown",
      "metadata": {
        "id": "TqLMpilnEy2h"
      },
      "source": [
        "Ahora realiza una gráfica entre las calorías y las grasas dibujando los clusters"
      ]
    },
    {
      "cell_type": "code",
      "execution_count": null,
      "metadata": {
        "id": "P5V9-rraEy2h",
        "outputId": "1f2a5807-0fef-49a9-a11b-5db9232be6dc"
      },
      "outputs": [
        {
          "data": {
            "image/png": "[encoded data removed]",
            "text/plain": [
              "<Figure size 1224x720 with 1 Axes>"
            ]
          },
          "metadata": {},
          "output_type": "display_data"
        }
      ],
      "source": [
        "calories = X[:,0]\n",
        "fat = X[:,2]\n",
        "\n",
        "plt.scatter(calories, fat, c = labels)\n",
        "plt.xlabel(\"Calories\")\n",
        "plt.ylabel(\"Fat\")\n",
        "plt.title(\"K-means Clustering (Calories vs. Fat)\")\n",
        "plt.show()"
      ]
    },
    {
      "cell_type": "markdown",
      "metadata": {
        "id": "JF_erteMEy2h"
      },
      "source": [
        "Veamos la gráfica entre las grasas y azucares, de nuevo dibujando los clusters"
      ]
    },
    {
      "cell_type": "code",
      "execution_count": null,
      "metadata": {
        "id": "ZPbTveaoEy2i",
        "outputId": "fb542ccd-8378-41f3-807b-30991be7a8a2"
      },
      "outputs": [
        {
          "data": {
            "image/png": "[encoded data removed]",
            "text/plain": [
              "<Figure size 1224x720 with 1 Axes>"
            ]
          },
          "metadata": {},
          "output_type": "display_data"
        }
      ],
      "source": [
        "fat = X[:,2]\n",
        "sugars = X[:,1]\n",
        "\n",
        "plt.scatter(fat, sugars, c=labels, )\n",
        "plt.xlabel(\"Fat\")\n",
        "plt.ylabel(\"Sugars\")\n",
        "plt.title(\"K-means Clustering (Fat vs. Sugars)\")\n",
        "plt.show()"
      ]
    },
    {
      "cell_type": "code",
      "execution_count": null,
      "metadata": {
        "id": "fcTI0_mhEy2i",
        "outputId": "74acab83-e1d1-4267-854e-1866e4d3f694"
      },
      "outputs": [
        {
          "data": {
            "application/vnd.plotly.v1+json": {
              "config": {
                "plotlyServerURL": "https://plot.ly"
              },
              "data": [
                {
                  "hovertemplate": "<b>%{hovertext}</b><br><br>sugars=%{x}<br>fat=%{y}<br>calories=%{z}<br>labels=%{marker.color}<extra></extra>",
                  "hovertext": [
                    "100% Bran",
                    "100% Natural Bran",
                    "All-Bran",
                    "All-Bran with Extra Fiber",
                    "Almond Delight",
                    "Apple Cinnamon Cheerios",
                    "Apple Jacks",
                    "Basic 4",
                    "Bran Chex",
                    "Bran Flakes",
                    "Cap'n'Crunch",
                    "Cheerios",
                    "Cinnamon Toast Crunch",
                    "Clusters",
                    "Cocoa Puffs",
                    "Corn Chex",
                    "Corn Flakes",
                    "Corn Pops",
                    "Count Chocula",
                    "Cracklin' Oat Bran",
                    "Cream of Wheat (Quick)",
                    "Crispix",
                    "Crispy Wheat & Raisins",
                    "Double Chex",
                    "Froot Loops",
                    "Frosted Flakes",
                    "Frosted Mini-Wheats",
                    "Fruit & Fibre Dates; Walnuts; and Oats",
                    "Fruitful Bran",
                    "Fruity Pebbles",
                    "Golden Crisp",
                    "Golden Grahams",
                    "Grape Nuts Flakes",
                    "Grape-Nuts",
                    "Great Grains Pecan",
                    "Honey Graham Ohs",
                    "Honey Nut Cheerios",
                    "Honey-comb",
                    "Just Right Crunchy  Nuggets",
                    "Just Right Fruit & Nut",
                    "Kix",
                    "Life",
                    "Lucky Charms",
                    "Maypo",
                    "Muesli Raisins; Dates; & Almonds",
                    "Muesli Raisins; Peaches; & Pecans",
                    "Mueslix Crispy Blend",
                    "Multi-Grain Cheerios",
                    "Nut&Honey Crunch",
                    "Nutri-Grain Almond-Raisin",
                    "Nutri-grain Wheat",
                    "Oatmeal Raisin Crisp",
                    "Post Nat. Raisin Bran",
                    "Product 19",
                    "Puffed Rice",
                    "Puffed Wheat",
                    "Quaker Oat Squares",
                    "Quaker Oatmeal",
                    "Raisin Bran",
                    "Raisin Nut Bran",
                    "Raisin Squares",
                    "Rice Chex",
                    "Rice Krispies",
                    "Shredded Wheat",
                    "Shredded Wheat 'n'Bran",
                    "Shredded Wheat spoon size",
                    "Smacks",
                    "Special K",
                    "Strawberry Fruit Wheats",
                    "Total Corn Flakes",
                    "Total Raisin Bran",
                    "Total Whole Grain",
                    "Triples",
                    "Trix",
                    "Wheat Chex",
                    "Wheaties",
                    "Wheaties Honey Gold"
                  ],
                  "legendgroup": "",
                  "marker": {
                    "color": [
                      2,
                      0,
                      2,
                      2,
                      0,
                      0,
                      0,
                      1,
                      0,
                      0,
                      0,
                      0,
                      0,
                      0,
                      0,
                      0,
                      0,
                      0,
                      0,
                      0,
                      0,
                      0,
                      0,
                      0,
                      0,
                      0,
                      0,
                      0,
                      0,
                      0,
                      0,
                      0,
                      0,
                      0,
                      0,
                      0,
                      0,
                      0,
                      0,
                      1,
                      0,
                      0,
                      0,
                      0,
                      1,
                      1,
                      1,
                      0,
                      0,
                      1,
                      0,
                      1,
                      0,
                      0,
                      2,
                      2,
                      0,
                      0,
                      0,
                      0,
                      0,
                      0,
                      0,
                      2,
                      0,
                      0,
                      0,
                      0,
                      0,
                      0,
                      1,
                      0,
                      0,
                      0,
                      0,
                      0,
                      0
                    ],
                    "coloraxis": "coloraxis",
                    "symbol": "circle"
                  },
                  "mode": "markers",
                  "name": "",
                  "scene": "scene",
                  "showlegend": false,
                  "type": "scatter3d",
                  "x": [
                    6,
                    8,
                    5,
                    0,
                    8,
                    10,
                    14,
                    8,
                    6,
                    5,
                    12,
                    1,
                    9,
                    7,
                    13,
                    3,
                    2,
                    12,
                    13,
                    7,
                    0,
                    3,
                    10,
                    5,
                    13,
                    11,
                    7,
                    10,
                    12,
                    12,
                    15,
                    9,
                    5,
                    3,
                    4,
                    11,
                    10,
                    11,
                    6,
                    9,
                    3,
                    6,
                    12,
                    3,
                    11,
                    11,
                    13,
                    6,
                    9,
                    7,
                    2,
                    10,
                    14,
                    3,
                    0,
                    0,
                    6,
                    -1,
                    12,
                    8,
                    6,
                    2,
                    3,
                    0,
                    0,
                    0,
                    15,
                    3,
                    5,
                    3,
                    14,
                    3,
                    3,
                    12,
                    3,
                    3,
                    8
                  ],
                  "y": [
                    1,
                    5,
                    1,
                    0,
                    2,
                    2,
                    0,
                    2,
                    1,
                    0,
                    2,
                    2,
                    3,
                    2,
                    1,
                    0,
                    0,
                    0,
                    1,
                    3,
                    0,
                    0,
                    1,
                    0,
                    1,
                    0,
                    0,
                    2,
                    0,
                    1,
                    0,
                    1,
                    1,
                    0,
                    3,
                    2,
                    1,
                    0,
                    1,
                    1,
                    1,
                    2,
                    1,
                    1,
                    3,
                    3,
                    2,
                    1,
                    1,
                    2,
                    0,
                    2,
                    1,
                    0,
                    0,
                    0,
                    1,
                    2,
                    1,
                    2,
                    0,
                    0,
                    0,
                    0,
                    0,
                    0,
                    1,
                    0,
                    0,
                    1,
                    1,
                    1,
                    1,
                    1,
                    1,
                    1,
                    1
                  ],
                  "z": [
                    70,
                    120,
                    70,
                    50,
                    110,
                    110,
                    110,
                    130,
                    90,
                    90,
                    120,
                    110,
                    120,
                    110,
                    110,
                    110,
                    100,
                    110,
                    110,
                    110,
                    100,
                    110,
                    100,
                    100,
                    110,
                    110,
                    100,
                    120,
                    120,
                    110,
                    100,
                    110,
                    100,
                    110,
                    120,
                    120,
                    110,
                    110,
                    110,
                    140,
                    110,
                    100,
                    110,
                    100,
                    150,
                    150,
                    160,
                    100,
                    120,
                    140,
                    90,
                    130,
                    120,
                    100,
                    50,
                    50,
                    100,
                    100,
                    120,
                    100,
                    90,
                    110,
                    110,
                    80,
                    90,
                    90,
                    110,
                    110,
                    90,
                    110,
                    140,
                    100,
                    110,
                    110,
                    100,
                    100,
                    110
                  ]
                }
              ],
              "layout": {
                "coloraxis": {
                  "colorbar": {
                    "title": {
                      "text": "labels"
                    }
                  },
                  "colorscale": [
                    [
                      0,
                      "#0d0887"
                    ],
                    [
                      0.1111111111111111,
                      "#46039f"
                    ],
                    [
                      0.2222222222222222,
                      "#7201a8"
                    ],
                    [
                      0.3333333333333333,
                      "#9c179e"
                    ],
                    [
                      0.4444444444444444,
                      "#bd3786"
                    ],
                    [
                      0.5555555555555556,
                      "#d8576b"
                    ],
                    [
                      0.6666666666666666,
                      "#ed7953"
                    ],
                    [
                      0.7777777777777778,
                      "#fb9f3a"
                    ],
                    [
                      0.8888888888888888,
                      "#fdca26"
                    ],
                    [
                      1,
                      "#f0f921"
                    ]
                  ]
                },
                "legend": {
                  "tracegroupgap": 0
                },
                "margin": {
                  "t": 60
                },
                "scene": {
                  "domain": {
                    "x": [
                      0,
                      1
                    ],
                    "y": [
                      0,
                      1
                    ]
                  },
                  "xaxis": {
                    "title": {
                      "text": "sugars"
                    }
                  },
                  "yaxis": {
                    "title": {
                      "text": "fat"
                    }
                  },
                  "zaxis": {
                    "title": {
                      "text": "calories"
                    }
                  }
                },
                "template": {
                  "data": {
                    "bar": [
                      {
                        "error_x": {
                          "color": "#2a3f5f"
                        },
                        "error_y": {
                          "color": "#2a3f5f"
                        },
                        "marker": {
                          "line": {
                            "color": "#E5ECF6",
                            "width": 0.5
                          },
                          "pattern": {
                            "fillmode": "overlay",
                            "size": 10,
                            "solidity": 0.2
                          }
                        },
                        "type": "bar"
                      }
                    ],
                    "barpolar": [
                      {
                        "marker": {
                          "line": {
                            "color": "#E5ECF6",
                            "width": 0.5
                          },
                          "pattern": {
                            "fillmode": "overlay",
                            "size": 10,
                            "solidity": 0.2
                          }
                        },
                        "type": "barpolar"
                      }
                    ],
                    "carpet": [
                      {
                        "aaxis": {
                          "endlinecolor": "#2a3f5f",
                          "gridcolor": "white",
                          "linecolor": "white",
                          "minorgridcolor": "white",
                          "startlinecolor": "#2a3f5f"
                        },
                        "baxis": {
                          "endlinecolor": "#2a3f5f",
                          "gridcolor": "white",
                          "linecolor": "white",
                          "minorgridcolor": "white",
                          "startlinecolor": "#2a3f5f"
                        },
                        "type": "carpet"
                      }
                    ],
                    "choropleth": [
                      {
                        "colorbar": {
                          "outlinewidth": 0,
                          "ticks": ""
                        },
                        "type": "choropleth"
                      }
                    ],
                    "contour": [
                      {
                        "colorbar": {
                          "outlinewidth": 0,
                          "ticks": ""
                        },
                        "colorscale": [
                          [
                            0,
                            "#0d0887"
                          ],
                          [
                            0.1111111111111111,
                            "#46039f"
                          ],
                          [
                            0.2222222222222222,
                            "#7201a8"
                          ],
                          [
                            0.3333333333333333,
                            "#9c179e"
                          ],
                          [
                            0.4444444444444444,
                            "#bd3786"
                          ],
                          [
                            0.5555555555555556,
                            "#d8576b"
                          ],
                          [
                            0.6666666666666666,
                            "#ed7953"
                          ],
                          [
                            0.7777777777777778,
                            "#fb9f3a"
                          ],
                          [
                            0.8888888888888888,
                            "#fdca26"
                          ],
                          [
                            1,
                            "#f0f921"
                          ]
                        ],
                        "type": "contour"
                      }
                    ],
                    "contourcarpet": [
                      {
                        "colorbar": {
                          "outlinewidth": 0,
                          "ticks": ""
                        },
                        "type": "contourcarpet"
                      }
                    ],
                    "heatmap": [
                      {
                        "colorbar": {
                          "outlinewidth": 0,
                          "ticks": ""
                        },
                        "colorscale": [
                          [
                            0,
                            "#0d0887"
                          ],
                          [
                            0.1111111111111111,
                            "#46039f"
                          ],
                          [
                            0.2222222222222222,
                            "#7201a8"
                          ],
                          [
                            0.3333333333333333,
                            "#9c179e"
                          ],
                          [
                            0.4444444444444444,
                            "#bd3786"
                          ],
                          [
                            0.5555555555555556,
                            "#d8576b"
                          ],
                          [
                            0.6666666666666666,
                            "#ed7953"
                          ],
                          [
                            0.7777777777777778,
                            "#fb9f3a"
                          ],
                          [
                            0.8888888888888888,
                            "#fdca26"
                          ],
                          [
                            1,
                            "#f0f921"
                          ]
                        ],
                        "type": "heatmap"
                      }
                    ],
                    "heatmapgl": [
                      {
                        "colorbar": {
                          "outlinewidth": 0,
                          "ticks": ""
                        },
                        "colorscale": [
                          [
                            0,
                            "#0d0887"
                          ],
                          [
                            0.1111111111111111,
                            "#46039f"
                          ],
                          [
                            0.2222222222222222,
                            "#7201a8"
                          ],
                          [
                            0.3333333333333333,
                            "#9c179e"
                          ],
                          [
                            0.4444444444444444,
                            "#bd3786"
                          ],
                          [
                            0.5555555555555556,
                            "#d8576b"
                          ],
                          [
                            0.6666666666666666,
                            "#ed7953"
                          ],
                          [
                            0.7777777777777778,
                            "#fb9f3a"
                          ],
                          [
                            0.8888888888888888,
                            "#fdca26"
                          ],
                          [
                            1,
                            "#f0f921"
                          ]
                        ],
                        "type": "heatmapgl"
                      }
                    ],
                    "histogram": [
                      {
                        "marker": {
                          "pattern": {
                            "fillmode": "overlay",
                            "size": 10,
                            "solidity": 0.2
                          }
                        },
                        "type": "histogram"
                      }
                    ],
                    "histogram2d": [
                      {
                        "colorbar": {
                          "outlinewidth": 0,
                          "ticks": ""
                        },
                        "colorscale": [
                          [
                            0,
                            "#0d0887"
                          ],
                          [
                            0.1111111111111111,
                            "#46039f"
                          ],
                          [
                            0.2222222222222222,
                            "#7201a8"
                          ],
                          [
                            0.3333333333333333,
                            "#9c179e"
                          ],
                          [
                            0.4444444444444444,
                            "#bd3786"
                          ],
                          [
                            0.5555555555555556,
                            "#d8576b"
                          ],
                          [
                            0.6666666666666666,
                            "#ed7953"
                          ],
                          [
                            0.7777777777777778,
                            "#fb9f3a"
                          ],
                          [
                            0.8888888888888888,
                            "#fdca26"
                          ],
                          [
                            1,
                            "#f0f921"
                          ]
                        ],
                        "type": "histogram2d"
                      }
                    ],
                    "histogram2dcontour": [
                      {
                        "colorbar": {
                          "outlinewidth": 0,
                          "ticks": ""
                        },
                        "colorscale": [
                          [
                            0,
                            "#0d0887"
                          ],
                          [
                            0.1111111111111111,
                            "#46039f"
                          ],
                          [
                            0.2222222222222222,
                            "#7201a8"
                          ],
                          [
                            0.3333333333333333,
                            "#9c179e"
                          ],
                          [
                            0.4444444444444444,
                            "#bd3786"
                          ],
                          [
                            0.5555555555555556,
                            "#d8576b"
                          ],
                          [
                            0.6666666666666666,
                            "#ed7953"
                          ],
                          [
                            0.7777777777777778,
                            "#fb9f3a"
                          ],
                          [
                            0.8888888888888888,
                            "#fdca26"
                          ],
                          [
                            1,
                            "#f0f921"
                          ]
                        ],
                        "type": "histogram2dcontour"
                      }
                    ],
                    "mesh3d": [
                      {
                        "colorbar": {
                          "outlinewidth": 0,
                          "ticks": ""
                        },
                        "type": "mesh3d"
                      }
                    ],
                    "parcoords": [
                      {
                        "line": {
                          "colorbar": {
                            "outlinewidth": 0,
                            "ticks": ""
                          }
                        },
                        "type": "parcoords"
                      }
                    ],
                    "pie": [
                      {
                        "automargin": true,
                        "type": "pie"
                      }
                    ],
                    "scatter": [
                      {
                        "marker": {
                          "colorbar": {
                            "outlinewidth": 0,
                            "ticks": ""
                          }
                        },
                        "type": "scatter"
                      }
                    ],
                    "scatter3d": [
                      {
                        "line": {
                          "colorbar": {
                            "outlinewidth": 0,
                            "ticks": ""
                          }
                        },
                        "marker": {
                          "colorbar": {
                            "outlinewidth": 0,
                            "ticks": ""
                          }
                        },
                        "type": "scatter3d"
                      }
                    ],
                    "scattercarpet": [
                      {
                        "marker": {
                          "colorbar": {
                            "outlinewidth": 0,
                            "ticks": ""
                          }
                        },
                        "type": "scattercarpet"
                      }
                    ],
                    "scattergeo": [
                      {
                        "marker": {
                          "colorbar": {
                            "outlinewidth": 0,
                            "ticks": ""
                          }
                        },
                        "type": "scattergeo"
                      }
                    ],
                    "scattergl": [
                      {
                        "marker": {
                          "colorbar": {
                            "outlinewidth": 0,
                            "ticks": ""
                          }
                        },
                        "type": "scattergl"
                      }
                    ],
                    "scattermapbox": [
                      {
                        "marker": {
                          "colorbar": {
                            "outlinewidth": 0,
                            "ticks": ""
                          }
                        },
                        "type": "scattermapbox"
                      }
                    ],
                    "scatterpolar": [
                      {
                        "marker": {
                          "colorbar": {
                            "outlinewidth": 0,
                            "ticks": ""
                          }
                        },
                        "type": "scatterpolar"
                      }
                    ],
                    "scatterpolargl": [
                      {
                        "marker": {
                          "colorbar": {
                            "outlinewidth": 0,
                            "ticks": ""
                          }
                        },
                        "type": "scatterpolargl"
                      }
                    ],
                    "scatterternary": [
                      {
                        "marker": {
                          "colorbar": {
                            "outlinewidth": 0,
                            "ticks": ""
                          }
                        },
                        "type": "scatterternary"
                      }
                    ],
                    "surface": [
                      {
                        "colorbar": {
                          "outlinewidth": 0,
                          "ticks": ""
                        },
                        "colorscale": [
                          [
                            0,
                            "#0d0887"
                          ],
                          [
                            0.1111111111111111,
                            "#46039f"
                          ],
                          [
                            0.2222222222222222,
                            "#7201a8"
                          ],
                          [
                            0.3333333333333333,
                            "#9c179e"
                          ],
                          [
                            0.4444444444444444,
                            "#bd3786"
                          ],
                          [
                            0.5555555555555556,
                            "#d8576b"
                          ],
                          [
                            0.6666666666666666,
                            "#ed7953"
                          ],
                          [
                            0.7777777777777778,
                            "#fb9f3a"
                          ],
                          [
                            0.8888888888888888,
                            "#fdca26"
                          ],
                          [
                            1,
                            "#f0f921"
                          ]
                        ],
                        "type": "surface"
                      }
                    ],
                    "table": [
                      {
                        "cells": {
                          "fill": {
                            "color": "#EBF0F8"
                          },
                          "line": {
                            "color": "white"
                          }
                        },
                        "header": {
                          "fill": {
                            "color": "#C8D4E3"
                          },
                          "line": {
                            "color": "white"
                          }
                        },
                        "type": "table"
                      }
                    ]
                  },
                  "layout": {
                    "annotationdefaults": {
                      "arrowcolor": "#2a3f5f",
                      "arrowhead": 0,
                      "arrowwidth": 1
                    },
                    "autotypenumbers": "strict",
                    "coloraxis": {
                      "colorbar": {
                        "outlinewidth": 0,
                        "ticks": ""
                      }
                    },
                    "colorscale": {
                      "diverging": [
                        [
                          0,
                          "#8e0152"
                        ],
                        [
                          0.1,
                          "#c51b7d"
                        ],
                        [
                          0.2,
                          "#de77ae"
                        ],
                        [
                          0.3,
                          "#f1b6da"
                        ],
                        [
                          0.4,
                          "#fde0ef"
                        ],
                        [
                          0.5,
                          "#f7f7f7"
                        ],
                        [
                          0.6,
                          "#e6f5d0"
                        ],
                        [
                          0.7,
                          "#b8e186"
                        ],
                        [
                          0.8,
                          "#7fbc41"
                        ],
                        [
                          0.9,
                          "#4d9221"
                        ],
                        [
                          1,
                          "#276419"
                        ]
                      ],
                      "sequential": [
                        [
                          0,
                          "#0d0887"
                        ],
                        [
                          0.1111111111111111,
                          "#46039f"
                        ],
                        [
                          0.2222222222222222,
                          "#7201a8"
                        ],
                        [
                          0.3333333333333333,
                          "#9c179e"
                        ],
                        [
                          0.4444444444444444,
                          "#bd3786"
                        ],
                        [
                          0.5555555555555556,
                          "#d8576b"
                        ],
                        [
                          0.6666666666666666,
                          "#ed7953"
                        ],
                        [
                          0.7777777777777778,
                          "#fb9f3a"
                        ],
                        [
                          0.8888888888888888,
                          "#fdca26"
                        ],
                        [
                          1,
                          "#f0f921"
                        ]
                      ],
                      "sequentialminus": [
                        [
                          0,
                          "#0d0887"
                        ],
                        [
                          0.1111111111111111,
                          "#46039f"
                        ],
                        [
                          0.2222222222222222,
                          "#7201a8"
                        ],
                        [
                          0.3333333333333333,
                          "#9c179e"
                        ],
                        [
                          0.4444444444444444,
                          "#bd3786"
                        ],
                        [
                          0.5555555555555556,
                          "#d8576b"
                        ],
                        [
                          0.6666666666666666,
                          "#ed7953"
                        ],
                        [
                          0.7777777777777778,
                          "#fb9f3a"
                        ],
                        [
                          0.8888888888888888,
                          "#fdca26"
                        ],
                        [
                          1,
                          "#f0f921"
                        ]
                      ]
                    },
                    "colorway": [
                      "#636efa",
                      "#EF553B",
                      "#00cc96",
                      "#ab63fa",
                      "#FFA15A",
                      "#19d3f3",
                      "#FF6692",
                      "#B6E880",
                      "#FF97FF",
                      "#FECB52"
                    ],
                    "font": {
                      "color": "#2a3f5f"
                    },
                    "geo": {
                      "bgcolor": "white",
                      "lakecolor": "white",
                      "landcolor": "#E5ECF6",
                      "showlakes": true,
                      "showland": true,
                      "subunitcolor": "white"
                    },
                    "hoverlabel": {
                      "align": "left"
                    },
                    "hovermode": "closest",
                    "mapbox": {
                      "style": "light"
                    },
                    "paper_bgcolor": "white",
                    "plot_bgcolor": "#E5ECF6",
                    "polar": {
                      "angularaxis": {
                        "gridcolor": "white",
                        "linecolor": "white",
                        "ticks": ""
                      },
                      "bgcolor": "#E5ECF6",
                      "radialaxis": {
                        "gridcolor": "white",
                        "linecolor": "white",
                        "ticks": ""
                      }
                    },
                    "scene": {
                      "xaxis": {
                        "backgroundcolor": "#E5ECF6",
                        "gridcolor": "white",
                        "gridwidth": 2,
                        "linecolor": "white",
                        "showbackground": true,
                        "ticks": "",
                        "zerolinecolor": "white"
                      },
                      "yaxis": {
                        "backgroundcolor": "#E5ECF6",
                        "gridcolor": "white",
                        "gridwidth": 2,
                        "linecolor": "white",
                        "showbackground": true,
                        "ticks": "",
                        "zerolinecolor": "white"
                      },
                      "zaxis": {
                        "backgroundcolor": "#E5ECF6",
                        "gridcolor": "white",
                        "gridwidth": 2,
                        "linecolor": "white",
                        "showbackground": true,
                        "ticks": "",
                        "zerolinecolor": "white"
                      }
                    },
                    "shapedefaults": {
                      "line": {
                        "color": "#2a3f5f"
                      }
                    },
                    "ternary": {
                      "aaxis": {
                        "gridcolor": "white",
                        "linecolor": "white",
                        "ticks": ""
                      },
                      "baxis": {
                        "gridcolor": "white",
                        "linecolor": "white",
                        "ticks": ""
                      },
                      "bgcolor": "#E5ECF6",
                      "caxis": {
                        "gridcolor": "white",
                        "linecolor": "white",
                        "ticks": ""
                      }
                    },
                    "title": {
                      "x": 0.05
                    },
                    "xaxis": {
                      "automargin": true,
                      "gridcolor": "white",
                      "linecolor": "white",
                      "ticks": "",
                      "title": {
                        "standoff": 15
                      },
                      "zerolinecolor": "white",
                      "zerolinewidth": 2
                    },
                    "yaxis": {
                      "automargin": true,
                      "gridcolor": "white",
                      "linecolor": "white",
                      "ticks": "",
                      "title": {
                        "standoff": 15
                      },
                      "zerolinecolor": "white",
                      "zerolinewidth": 2
                    }
                  }
                }
              }
            },
            "text/html": [
              "<div>                            <div id=\"92e194ee-8aa5-427a-a853-e8c392f1d53b\" class=\"plotly-graph-div\" style=\"height:525px; width:100%;\"></div>            <script type=\"text/javascript\">                require([\"plotly\"], function(Plotly) {                    window.PLOTLYENV=window.PLOTLYENV || {};                                    if (document.getElementById(\"92e194ee-8aa5-427a-a853-e8c392f1d53b\")) {                    Plotly.newPlot(                        \"92e194ee-8aa5-427a-a853-e8c392f1d53b\",                        [{\"hovertemplate\":\"<b>%{hovertext}</b><br><br>sugars=%{x}<br>fat=%{y}<br>calories=%{z}<br>labels=%{marker.color}<extra></extra>\",\"hovertext\":[\"100% Bran\",\"100% Natural Bran\",\"All-Bran\",\"All-Bran with Extra Fiber\",\"Almond Delight\",\"Apple Cinnamon Cheerios\",\"Apple Jacks\",\"Basic 4\",\"Bran Chex\",\"Bran Flakes\",\"Cap'n'Crunch\",\"Cheerios\",\"Cinnamon Toast Crunch\",\"Clusters\",\"Cocoa Puffs\",\"Corn Chex\",\"Corn Flakes\",\"Corn Pops\",\"Count Chocula\",\"Cracklin' Oat Bran\",\"Cream of Wheat (Quick)\",\"Crispix\",\"Crispy Wheat & Raisins\",\"Double Chex\",\"Froot Loops\",\"Frosted Flakes\",\"Frosted Mini-Wheats\",\"Fruit & Fibre Dates; Walnuts; and Oats\",\"Fruitful Bran\",\"Fruity Pebbles\",\"Golden Crisp\",\"Golden Grahams\",\"Grape Nuts Flakes\",\"Grape-Nuts\",\"Great Grains Pecan\",\"Honey Graham Ohs\",\"Honey Nut Cheerios\",\"Honey-comb\",\"Just Right Crunchy  Nuggets\",\"Just Right Fruit & Nut\",\"Kix\",\"Life\",\"Lucky Charms\",\"Maypo\",\"Muesli Raisins; Dates; & Almonds\",\"Muesli Raisins; Peaches; & Pecans\",\"Mueslix Crispy Blend\",\"Multi-Grain Cheerios\",\"Nut&Honey Crunch\",\"Nutri-Grain Almond-Raisin\",\"Nutri-grain Wheat\",\"Oatmeal Raisin Crisp\",\"Post Nat. Raisin Bran\",\"Product 19\",\"Puffed Rice\",\"Puffed Wheat\",\"Quaker Oat Squares\",\"Quaker Oatmeal\",\"Raisin Bran\",\"Raisin Nut Bran\",\"Raisin Squares\",\"Rice Chex\",\"Rice Krispies\",\"Shredded Wheat\",\"Shredded Wheat 'n'Bran\",\"Shredded Wheat spoon size\",\"Smacks\",\"Special K\",\"Strawberry Fruit Wheats\",\"Total Corn Flakes\",\"Total Raisin Bran\",\"Total Whole Grain\",\"Triples\",\"Trix\",\"Wheat Chex\",\"Wheaties\",\"Wheaties Honey Gold\"],\"legendgroup\":\"\",\"marker\":{\"color\":[2,0,2,2,0,0,0,1,0,0,0,0,0,0,0,0,0,0,0,0,0,0,0,0,0,0,0,0,0,0,0,0,0,0,0,0,0,0,0,1,0,0,0,0,1,1,1,0,0,1,0,1,0,0,2,2,0,0,0,0,0,0,0,2,0,0,0,0,0,0,1,0,0,0,0,0,0],\"coloraxis\":\"coloraxis\",\"symbol\":\"circle\"},\"mode\":\"markers\",\"name\":\"\",\"scene\":\"scene\",\"showlegend\":false,\"x\":[6,8,5,0,8,10,14,8,6,5,12,1,9,7,13,3,2,12,13,7,0,3,10,5,13,11,7,10,12,12,15,9,5,3,4,11,10,11,6,9,3,6,12,3,11,11,13,6,9,7,2,10,14,3,0,0,6,-1,12,8,6,2,3,0,0,0,15,3,5,3,14,3,3,12,3,3,8],\"y\":[1,5,1,0,2,2,0,2,1,0,2,2,3,2,1,0,0,0,1,3,0,0,1,0,1,0,0,2,0,1,0,1,1,0,3,2,1,0,1,1,1,2,1,1,3,3,2,1,1,2,0,2,1,0,0,0,1,2,1,2,0,0,0,0,0,0,1,0,0,1,1,1,1,1,1,1,1],\"z\":[70,120,70,50,110,110,110,130,90,90,120,110,120,110,110,110,100,110,110,110,100,110,100,100,110,110,100,120,120,110,100,110,100,110,120,120,110,110,110,140,110,100,110,100,150,150,160,100,120,140,90,130,120,100,50,50,100,100,120,100,90,110,110,80,90,90,110,110,90,110,140,100,110,110,100,100,110],\"type\":\"scatter3d\"}],                        {\"template\":{\"data\":{\"bar\":[{\"error_x\":{\"color\":\"#2a3f5f\"},\"error_y\":{\"color\":\"#2a3f5f\"},\"marker\":{\"line\":{\"color\":\"#E5ECF6\",\"width\":0.5},\"pattern\":{\"fillmode\":\"overlay\",\"size\":10,\"solidity\":0.2}},\"type\":\"bar\"}],\"barpolar\":[{\"marker\":{\"line\":{\"color\":\"#E5ECF6\",\"width\":0.5},\"pattern\":{\"fillmode\":\"overlay\",\"size\":10,\"solidity\":0.2}},\"type\":\"barpolar\"}],\"carpet\":[{\"aaxis\":{\"endlinecolor\":\"#2a3f5f\",\"gridcolor\":\"white\",\"linecolor\":\"white\",\"minorgridcolor\":\"white\",\"startlinecolor\":\"#2a3f5f\"},\"baxis\":{\"endlinecolor\":\"#2a3f5f\",\"gridcolor\":\"white\",\"linecolor\":\"white\",\"minorgridcolor\":\"white\",\"startlinecolor\":\"#2a3f5f\"},\"type\":\"carpet\"}],\"choropleth\":[{\"colorbar\":{\"outlinewidth\":0,\"ticks\":\"\"},\"type\":\"choropleth\"}],\"contour\":[{\"colorbar\":{\"outlinewidth\":0,\"ticks\":\"\"},\"colorscale\":[[0.0,\"#0d0887\"],[0.1111111111111111,\"#46039f\"],[0.2222222222222222,\"#7201a8\"],[0.3333333333333333,\"#9c179e\"],[0.4444444444444444,\"#bd3786\"],[0.5555555555555556,\"#d8576b\"],[0.6666666666666666,\"#ed7953\"],[0.7777777777777778,\"#fb9f3a\"],[0.8888888888888888,\"#fdca26\"],[1.0,\"#f0f921\"]],\"type\":\"contour\"}],\"contourcarpet\":[{\"colorbar\":{\"outlinewidth\":0,\"ticks\":\"\"},\"type\":\"contourcarpet\"}],\"heatmap\":[{\"colorbar\":{\"outlinewidth\":0,\"ticks\":\"\"},\"colorscale\":[[0.0,\"#0d0887\"],[0.1111111111111111,\"#46039f\"],[0.2222222222222222,\"#7201a8\"],[0.3333333333333333,\"#9c179e\"],[0.4444444444444444,\"#bd3786\"],[0.5555555555555556,\"#d8576b\"],[0.6666666666666666,\"#ed7953\"],[0.7777777777777778,\"#fb9f3a\"],[0.8888888888888888,\"#fdca26\"],[1.0,\"#f0f921\"]],\"type\":\"heatmap\"}],\"heatmapgl\":[{\"colorbar\":{\"outlinewidth\":0,\"ticks\":\"\"},\"colorscale\":[[0.0,\"#0d0887\"],[0.1111111111111111,\"#46039f\"],[0.2222222222222222,\"#7201a8\"],[0.3333333333333333,\"#9c179e\"],[0.4444444444444444,\"#bd3786\"],[0.5555555555555556,\"#d8576b\"],[0.6666666666666666,\"#ed7953\"],[0.7777777777777778,\"#fb9f3a\"],[0.8888888888888888,\"#fdca26\"],[1.0,\"#f0f921\"]],\"type\":\"heatmapgl\"}],\"histogram\":[{\"marker\":{\"pattern\":{\"fillmode\":\"overlay\",\"size\":10,\"solidity\":0.2}},\"type\":\"histogram\"}],\"histogram2d\":[{\"colorbar\":{\"outlinewidth\":0,\"ticks\":\"\"},\"colorscale\":[[0.0,\"#0d0887\"],[0.1111111111111111,\"#46039f\"],[0.2222222222222222,\"#7201a8\"],[0.3333333333333333,\"#9c179e\"],[0.4444444444444444,\"#bd3786\"],[0.5555555555555556,\"#d8576b\"],[0.6666666666666666,\"#ed7953\"],[0.7777777777777778,\"#fb9f3a\"],[0.8888888888888888,\"#fdca26\"],[1.0,\"#f0f921\"]],\"type\":\"histogram2d\"}],\"histogram2dcontour\":[{\"colorbar\":{\"outlinewidth\":0,\"ticks\":\"\"},\"colorscale\":[[0.0,\"#0d0887\"],[0.1111111111111111,\"#46039f\"],[0.2222222222222222,\"#7201a8\"],[0.3333333333333333,\"#9c179e\"],[0.4444444444444444,\"#bd3786\"],[0.5555555555555556,\"#d8576b\"],[0.6666666666666666,\"#ed7953\"],[0.7777777777777778,\"#fb9f3a\"],[0.8888888888888888,\"#fdca26\"],[1.0,\"#f0f921\"]],\"type\":\"histogram2dcontour\"}],\"mesh3d\":[{\"colorbar\":{\"outlinewidth\":0,\"ticks\":\"\"},\"type\":\"mesh3d\"}],\"parcoords\":[{\"line\":{\"colorbar\":{\"outlinewidth\":0,\"ticks\":\"\"}},\"type\":\"parcoords\"}],\"pie\":[{\"automargin\":true,\"type\":\"pie\"}],\"scatter\":[{\"marker\":{\"colorbar\":{\"outlinewidth\":0,\"ticks\":\"\"}},\"type\":\"scatter\"}],\"scatter3d\":[{\"line\":{\"colorbar\":{\"outlinewidth\":0,\"ticks\":\"\"}},\"marker\":{\"colorbar\":{\"outlinewidth\":0,\"ticks\":\"\"}},\"type\":\"scatter3d\"}],\"scattercarpet\":[{\"marker\":{\"colorbar\":{\"outlinewidth\":0,\"ticks\":\"\"}},\"type\":\"scattercarpet\"}],\"scattergeo\":[{\"marker\":{\"colorbar\":{\"outlinewidth\":0,\"ticks\":\"\"}},\"type\":\"scattergeo\"}],\"scattergl\":[{\"marker\":{\"colorbar\":{\"outlinewidth\":0,\"ticks\":\"\"}},\"type\":\"scattergl\"}],\"scattermapbox\":[{\"marker\":{\"colorbar\":{\"outlinewidth\":0,\"ticks\":\"\"}},\"type\":\"scattermapbox\"}],\"scatterpolar\":[{\"marker\":{\"colorbar\":{\"outlinewidth\":0,\"ticks\":\"\"}},\"type\":\"scatterpolar\"}],\"scatterpolargl\":[{\"marker\":{\"colorbar\":{\"outlinewidth\":0,\"ticks\":\"\"}},\"type\":\"scatterpolargl\"}],\"scatterternary\":[{\"marker\":{\"colorbar\":{\"outlinewidth\":0,\"ticks\":\"\"}},\"type\":\"scatterternary\"}],\"surface\":[{\"colorbar\":{\"outlinewidth\":0,\"ticks\":\"\"},\"colorscale\":[[0.0,\"#0d0887\"],[0.1111111111111111,\"#46039f\"],[0.2222222222222222,\"#7201a8\"],[0.3333333333333333,\"#9c179e\"],[0.4444444444444444,\"#bd3786\"],[0.5555555555555556,\"#d8576b\"],[0.6666666666666666,\"#ed7953\"],[0.7777777777777778,\"#fb9f3a\"],[0.8888888888888888,\"#fdca26\"],[1.0,\"#f0f921\"]],\"type\":\"surface\"}],\"table\":[{\"cells\":{\"fill\":{\"color\":\"#EBF0F8\"},\"line\":{\"color\":\"white\"}},\"header\":{\"fill\":{\"color\":\"#C8D4E3\"},\"line\":{\"color\":\"white\"}},\"type\":\"table\"}]},\"layout\":{\"annotationdefaults\":{\"arrowcolor\":\"#2a3f5f\",\"arrowhead\":0,\"arrowwidth\":1},\"autotypenumbers\":\"strict\",\"coloraxis\":{\"colorbar\":{\"outlinewidth\":0,\"ticks\":\"\"}},\"colorscale\":{\"diverging\":[[0,\"#8e0152\"],[0.1,\"#c51b7d\"],[0.2,\"#de77ae\"],[0.3,\"#f1b6da\"],[0.4,\"#fde0ef\"],[0.5,\"#f7f7f7\"],[0.6,\"#e6f5d0\"],[0.7,\"#b8e186\"],[0.8,\"#7fbc41\"],[0.9,\"#4d9221\"],[1,\"#276419\"]],\"sequential\":[[0.0,\"#0d0887\"],[0.1111111111111111,\"#46039f\"],[0.2222222222222222,\"#7201a8\"],[0.3333333333333333,\"#9c179e\"],[0.4444444444444444,\"#bd3786\"],[0.5555555555555556,\"#d8576b\"],[0.6666666666666666,\"#ed7953\"],[0.7777777777777778,\"#fb9f3a\"],[0.8888888888888888,\"#fdca26\"],[1.0,\"#f0f921\"]],\"sequentialminus\":[[0.0,\"#0d0887\"],[0.1111111111111111,\"#46039f\"],[0.2222222222222222,\"#7201a8\"],[0.3333333333333333,\"#9c179e\"],[0.4444444444444444,\"#bd3786\"],[0.5555555555555556,\"#d8576b\"],[0.6666666666666666,\"#ed7953\"],[0.7777777777777778,\"#fb9f3a\"],[0.8888888888888888,\"#fdca26\"],[1.0,\"#f0f921\"]]},\"colorway\":[\"#636efa\",\"#EF553B\",\"#00cc96\",\"#ab63fa\",\"#FFA15A\",\"#19d3f3\",\"#FF6692\",\"#B6E880\",\"#FF97FF\",\"#FECB52\"],\"font\":{\"color\":\"#2a3f5f\"},\"geo\":{\"bgcolor\":\"white\",\"lakecolor\":\"white\",\"landcolor\":\"#E5ECF6\",\"showlakes\":true,\"showland\":true,\"subunitcolor\":\"white\"},\"hoverlabel\":{\"align\":\"left\"},\"hovermode\":\"closest\",\"mapbox\":{\"style\":\"light\"},\"paper_bgcolor\":\"white\",\"plot_bgcolor\":\"#E5ECF6\",\"polar\":{\"angularaxis\":{\"gridcolor\":\"white\",\"linecolor\":\"white\",\"ticks\":\"\"},\"bgcolor\":\"#E5ECF6\",\"radialaxis\":{\"gridcolor\":\"white\",\"linecolor\":\"white\",\"ticks\":\"\"}},\"scene\":{\"xaxis\":{\"backgroundcolor\":\"#E5ECF6\",\"gridcolor\":\"white\",\"gridwidth\":2,\"linecolor\":\"white\",\"showbackground\":true,\"ticks\":\"\",\"zerolinecolor\":\"white\"},\"yaxis\":{\"backgroundcolor\":\"#E5ECF6\",\"gridcolor\":\"white\",\"gridwidth\":2,\"linecolor\":\"white\",\"showbackground\":true,\"ticks\":\"\",\"zerolinecolor\":\"white\"},\"zaxis\":{\"backgroundcolor\":\"#E5ECF6\",\"gridcolor\":\"white\",\"gridwidth\":2,\"linecolor\":\"white\",\"showbackground\":true,\"ticks\":\"\",\"zerolinecolor\":\"white\"}},\"shapedefaults\":{\"line\":{\"color\":\"#2a3f5f\"}},\"ternary\":{\"aaxis\":{\"gridcolor\":\"white\",\"linecolor\":\"white\",\"ticks\":\"\"},\"baxis\":{\"gridcolor\":\"white\",\"linecolor\":\"white\",\"ticks\":\"\"},\"bgcolor\":\"#E5ECF6\",\"caxis\":{\"gridcolor\":\"white\",\"linecolor\":\"white\",\"ticks\":\"\"}},\"title\":{\"x\":0.05},\"xaxis\":{\"automargin\":true,\"gridcolor\":\"white\",\"linecolor\":\"white\",\"ticks\":\"\",\"title\":{\"standoff\":15},\"zerolinecolor\":\"white\",\"zerolinewidth\":2},\"yaxis\":{\"automargin\":true,\"gridcolor\":\"white\",\"linecolor\":\"white\",\"ticks\":\"\",\"title\":{\"standoff\":15},\"zerolinecolor\":\"white\",\"zerolinewidth\":2}}},\"scene\":{\"domain\":{\"x\":[0.0,1.0],\"y\":[0.0,1.0]},\"xaxis\":{\"title\":{\"text\":\"sugars\"}},\"yaxis\":{\"title\":{\"text\":\"fat\"}},\"zaxis\":{\"title\":{\"text\":\"calories\"}}},\"coloraxis\":{\"colorbar\":{\"title\":{\"text\":\"labels\"}},\"colorscale\":[[0.0,\"#0d0887\"],[0.1111111111111111,\"#46039f\"],[0.2222222222222222,\"#7201a8\"],[0.3333333333333333,\"#9c179e\"],[0.4444444444444444,\"#bd3786\"],[0.5555555555555556,\"#d8576b\"],[0.6666666666666666,\"#ed7953\"],[0.7777777777777778,\"#fb9f3a\"],[0.8888888888888888,\"#fdca26\"],[1.0,\"#f0f921\"]]},\"legend\":{\"tracegroupgap\":0},\"margin\":{\"t\":60}},                        {\"responsive\": true}                    ).then(function(){\n",
              "                            \n",
              "var gd = document.getElementById('92e194ee-8aa5-427a-a853-e8c392f1d53b');\n",
              "var x = new MutationObserver(function (mutations, observer) {{\n",
              "        var display = window.getComputedStyle(gd).display;\n",
              "        if (!display || display === 'none') {{\n",
              "            console.log([gd, 'removed!']);\n",
              "            Plotly.purge(gd);\n",
              "            observer.disconnect();\n",
              "        }}\n",
              "}});\n",
              "\n",
              "// Listen for the removal of the full notebook cells\n",
              "var notebookContainer = gd.closest('#notebook-container');\n",
              "if (notebookContainer) {{\n",
              "    x.observe(notebookContainer, {childList: true});\n",
              "}}\n",
              "\n",
              "// Listen for the clearing of the current output cell\n",
              "var outputEl = gd.closest('.output');\n",
              "if (outputEl) {{\n",
              "    x.observe(outputEl, {childList: true});\n",
              "}}\n",
              "\n",
              "                        })                };                });            </script>        </div>"
            ]
          },
          "metadata": {},
          "output_type": "display_data"
        }
      ],
      "source": [
        "import plotly.express as px\n",
        "\n",
        "px.scatter_3d(df, x=\"sugars\", y=\"fat\", z=\"calories\", color=\"labels\", hover_name=\"name\")"
      ]
    },
    {
      "cell_type": "markdown",
      "metadata": {
        "id": "oX5EMw_EEy2i"
      },
      "source": [
        "¿en qué graficas ves una mejor diferenciación de los grupos?"
      ]
    },
    {
      "cell_type": "markdown",
      "metadata": {
        "id": "ldmU9ptKEy2i"
      },
      "source": [
        "¿qué puedes decir respecto de las 3 variables? ¿cuales están clasificando mejor los grupos?"
      ]
    },
    {
      "cell_type": "markdown",
      "metadata": {
        "id": "U6-B02ZZEy2i"
      },
      "source": [
        "Aparentemente, en el que mejor se clasifican los grupos son en el primer caso, el de caloríasXazucar, que es donde mejor se aprecian los distintos grupos."
      ]
    },
    {
      "cell_type": "markdown",
      "metadata": {
        "id": "HSvjXg7OEy2i"
      },
      "source": [
        "¿En qué otras situaciones consideras interesante la aplicación de un análisis de conglomerados?"
      ]
    },
    {
      "cell_type": "markdown",
      "metadata": {
        "id": "ARcJdHLNEy2i"
      },
      "source": [
        "Un caso interesante para realizar clustering sería por ejemplo un customer segmentation, para después poder hacer profiling de los diferentes grupos y poder realizar ofertas personalizadas dentro de cada grupo."
      ]
    }
  ],
  "metadata": {
    "kernelspec": {
      "display_name": "Python 3 (ipykernel)",
      "language": "python",
      "name": "python3"
    },
    "language_info": {
      "codemirror_mode": {
        "name": "ipython",
        "version": 3
      },
      "file_extension": ".py",
      "mimetype": "text/x-python",
      "name": "python",
      "nbconvert_exporter": "python",
      "pygments_lexer": "ipython3",
      "version": "3.9.12"
    },
    "toc": {
      "base_numbering": 1,
      "nav_menu": {},
      "number_sections": true,
      "sideBar": true,
      "skip_h1_title": false,
      "title_cell": "Table of Contents",
      "title_sidebar": "Contents",
      "toc_cell": false,
      "toc_position": {},
      "toc_section_display": true,
      "toc_window_display": false
    },
    "varInspector": {
      "cols": {
        "lenName": 16,
        "lenType": 16,
        "lenVar": 40
      },
      "kernels_config": {
        "python": {
          "delete_cmd_postfix": "",
          "delete_cmd_prefix": "del ",
          "library": "var_list.py",
          "varRefreshCmd": "print(var_dic_list())"
        },
        "r": {
          "delete_cmd_postfix": ") ",
          "delete_cmd_prefix": "rm(",
          "library": "var_list.r",
          "varRefreshCmd": "cat(var_dic_list()) "
        }
      },
      "types_to_exclude": [
        "module",
        "function",
        "builtin_function_or_method",
        "instance",
        "_Feature"
      ],
      "window_display": false
    },
    "colab": {
      "provenance": [],
      "include_colab_link": true
    }
  },
  "nbformat": 4,
  "nbformat_minor": 0
}