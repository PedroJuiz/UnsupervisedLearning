{
  "cells": [
    {
      "cell_type": "markdown",
      "metadata": {
        "id": "view-in-github",
        "colab_type": "text"
      },
      "source": [
        "<a href=\"https://colab.research.google.com/github/PedroJuiz/UnsupervisedLearning/blob/main/Expansion_plan.ipynb\" target=\"_parent\"><img src=\"https://colab.research.google.com/assets/colab-badge.svg\" alt=\"Open In Colab\"/></a>"
      ]
    },
    {
      "cell_type": "markdown",
      "metadata": {
        "id": "T0Jz3_awGGcb"
      },
      "source": [
        "<img src=\"newlogomioti.png\" style=\"height: 100px\">\n",
        "<center style=\"color:#888\">Módulo Data Science in IoT<br/>Asignatura: Machine learning 2: Unsupervised learning</center>\n",
        "\n",
        "# Challenge S5: Clusterización II"
      ]
    },
    {
      "cell_type": "markdown",
      "metadata": {
        "id": "FD4P0zDJGGcd"
      },
      "source": [
        "<font size=\"5\"><center><span style=\"color:blue\">***Nombre y Apellidos: Pedro Juiz Díaz***</span></center></font>"
      ]
    },
    {
      "cell_type": "markdown",
      "metadata": {
        "id": "i3ry5cL_GGce"
      },
      "source": [
        "## Plan de expansión: apertura de nuevas tiendas"
      ]
    },
    {
      "cell_type": "markdown",
      "metadata": {
        "id": "kxBT8-ZzGGce"
      },
      "source": [
        "Una cadena de supermercados desea identificar áreas en las que abrir nuevos centros.\n",
        "\n",
        "Utilizando información censal (tabla CENSUS2000) el objetivo es encontrar áreas cuyos perfiles de clientes se adapten a diferentes tipologías de centros: boutiques, supermercados de presupuesto medio, grandes superficies, etc.\n",
        "\n",
        "Se supone que el país tiene una densidad muy baja de establecimientos comerciales y se puede seguir abriendo tiendas en las diferentes regiones."
      ]
    },
    {
      "cell_type": "markdown",
      "metadata": {
        "id": "DnZs9JDmGGce"
      },
      "source": [
        "<img src=\"tienda.jpg\">"
      ]
    },
    {
      "cell_type": "markdown",
      "metadata": {
        "id": "0HTT87d2GGcf"
      },
      "source": [
        "## Configuración del entorno\n",
        "\n",
        "Es recomendable declarar en un bloque al inicio todos los paquetes que vas a utilizar en este notebook:"
      ]
    },
    {
      "cell_type": "code",
      "execution_count": null,
      "metadata": {
        "id": "8OFo6qW7GGcf"
      },
      "outputs": [],
      "source": [
        "%matplotlib inline\n",
        "\n",
        "import warnings\n",
        "warnings.filterwarnings(\"ignore\")\n",
        "\n",
        "import numpy as np\n",
        "import pandas as pd\n",
        "import matplotlib.pyplot as plt\n",
        "import sklearn\n",
        "import seaborn as sns\n",
        "from sklearn.cluster import AgglomerativeClustering\n",
        "import scipy.cluster.hierarchy as sch\n",
        "from sklearn.cluster import KMeans"
      ]
    },
    {
      "cell_type": "markdown",
      "metadata": {
        "id": "xn9bqUrRGGcg"
      },
      "source": [
        "### Información del dataset Census2000\n",
        "Como hemos mencionado, vamos a hacer uso de un dataset con información censal (tabla CENSUS2000).\n",
        "\n",
        "Las variables de las que dispone son:  \n",
        "\n",
        "* Numrow: Numero de fila\n",
        "* ID: Identificador del registro\n",
        "* LocX y LocY para geolocalizar las zonas\n",
        "* RegDens: Densidad de población de la región\n",
        "* RegPop: Número de habitantes de la región\n",
        "* MedHHInc: Nivel de ingresos medio de la unidad familiar\n",
        "* MeanHHSz: Tamaño medio de la unidad familiar (HH = Household)\n",
        "\n",
        "Los datos se encuentran en un fichero `csv` llamado `census2000.csv`.\n",
        "\n",
        "Carga los datos en un dataframe para hacer los ejercicios de este bloque."
      ]
    },
    {
      "cell_type": "code",
      "execution_count": null,
      "metadata": {
        "id": "VmyX_WsQGGcg"
      },
      "outputs": [],
      "source": [
        "dfc=pd.read_csv(\"census2000.csv\")"
      ]
    },
    {
      "cell_type": "markdown",
      "metadata": {
        "id": "nCMpsoFPGGch"
      },
      "source": [
        "Una vez cargados los datos debemos inspeccionarlos antes de empezar nuestro análisis."
      ]
    },
    {
      "cell_type": "code",
      "execution_count": null,
      "metadata": {
        "id": "rOqJUgV3GGch",
        "outputId": "12047aa4-895f-4025-c9c4-6191e0216da3"
      },
      "outputs": [
        {
          "data": {
            "text/html": [
              "<div>\n",
              "<style scoped>\n",
              "    .dataframe tbody tr th:only-of-type {\n",
              "        vertical-align: middle;\n",
              "    }\n",
              "\n",
              "    .dataframe tbody tr th {\n",
              "        vertical-align: top;\n",
              "    }\n",
              "\n",
              "    .dataframe thead th {\n",
              "        text-align: right;\n",
              "    }\n",
              "</style>\n",
              "<table border=\"1\" class=\"dataframe\">\n",
              "  <thead>\n",
              "    <tr style=\"text-align: right;\">\n",
              "      <th></th>\n",
              "      <th>Numrow</th>\n",
              "      <th>ID</th>\n",
              "      <th>LocX</th>\n",
              "      <th>LocY</th>\n",
              "      <th>RegDens</th>\n",
              "      <th>RegPop</th>\n",
              "      <th>MedHHInc</th>\n",
              "      <th>MeanHHSz</th>\n",
              "    </tr>\n",
              "  </thead>\n",
              "  <tbody>\n",
              "    <tr>\n",
              "      <th>0</th>\n",
              "      <td>0</td>\n",
              "      <td>00601</td>\n",
              "      <td>-66.749472</td>\n",
              "      <td>18.180103</td>\n",
              "      <td>70.0</td>\n",
              "      <td>19143.0</td>\n",
              "      <td>9888.0</td>\n",
              "      <td>3.24</td>\n",
              "    </tr>\n",
              "    <tr>\n",
              "      <th>1</th>\n",
              "      <td>1</td>\n",
              "      <td>00602</td>\n",
              "      <td>-67.180247</td>\n",
              "      <td>18.363285</td>\n",
              "      <td>83.0</td>\n",
              "      <td>42042.0</td>\n",
              "      <td>11384.0</td>\n",
              "      <td>3.10</td>\n",
              "    </tr>\n",
              "    <tr>\n",
              "      <th>2</th>\n",
              "      <td>2</td>\n",
              "      <td>00603</td>\n",
              "      <td>-67.134224</td>\n",
              "      <td>18.448619</td>\n",
              "      <td>86.0</td>\n",
              "      <td>55592.0</td>\n",
              "      <td>10748.0</td>\n",
              "      <td>2.84</td>\n",
              "    </tr>\n",
              "    <tr>\n",
              "      <th>3</th>\n",
              "      <td>3</td>\n",
              "      <td>00604</td>\n",
              "      <td>-67.136995</td>\n",
              "      <td>18.498987</td>\n",
              "      <td>83.0</td>\n",
              "      <td>3844.0</td>\n",
              "      <td>31199.0</td>\n",
              "      <td>3.00</td>\n",
              "    </tr>\n",
              "    <tr>\n",
              "      <th>4</th>\n",
              "      <td>4</td>\n",
              "      <td>00606</td>\n",
              "      <td>-66.958807</td>\n",
              "      <td>18.182151</td>\n",
              "      <td>65.0</td>\n",
              "      <td>6449.0</td>\n",
              "      <td>9243.0</td>\n",
              "      <td>3.20</td>\n",
              "    </tr>\n",
              "  </tbody>\n",
              "</table>\n",
              "</div>"
            ],
            "text/plain": [
              "   Numrow     ID       LocX       LocY  RegDens   RegPop  MedHHInc  MeanHHSz\n",
              "0       0  00601 -66.749472  18.180103     70.0  19143.0    9888.0      3.24\n",
              "1       1  00602 -67.180247  18.363285     83.0  42042.0   11384.0      3.10\n",
              "2       2  00603 -67.134224  18.448619     86.0  55592.0   10748.0      2.84\n",
              "3       3  00604 -67.136995  18.498987     83.0   3844.0   31199.0      3.00\n",
              "4       4  00606 -66.958807  18.182151     65.0   6449.0    9243.0      3.20"
            ]
          },
          "execution_count": 99,
          "metadata": {},
          "output_type": "execute_result"
        }
      ],
      "source": [
        "dfc.head()"
      ]
    },
    {
      "cell_type": "markdown",
      "metadata": {
        "id": "OhzbYZJxGGch"
      },
      "source": [
        "¿Cuantos registros y columnas tiene el dataset?\n",
        "\n",
        "¿De que tipo son los datos cargados?"
      ]
    },
    {
      "cell_type": "code",
      "execution_count": null,
      "metadata": {
        "id": "AT-0MebpGGch",
        "outputId": "6c6e4767-2442-4c00-ee3e-7dc6dfa1c527"
      },
      "outputs": [
        {
          "name": "stdout",
          "output_type": "stream",
          "text": [
            "<class 'pandas.core.frame.DataFrame'>\n",
            "RangeIndex: 33178 entries, 0 to 33177\n",
            "Data columns (total 8 columns):\n",
            " #   Column    Non-Null Count  Dtype  \n",
            "---  ------    --------------  -----  \n",
            " 0   Numrow    33178 non-null  int64  \n",
            " 1   ID        33178 non-null  object \n",
            " 2   LocX      33178 non-null  float64\n",
            " 3   LocY      33178 non-null  float64\n",
            " 4   RegDens   32165 non-null  float64\n",
            " 5   RegPop    33178 non-null  float64\n",
            " 6   MedHHInc  33178 non-null  float64\n",
            " 7   MeanHHSz  33178 non-null  float64\n",
            "dtypes: float64(6), int64(1), object(1)\n",
            "memory usage: 2.0+ MB\n"
          ]
        }
      ],
      "source": [
        "dfc.info()"
      ]
    },
    {
      "cell_type": "markdown",
      "metadata": {
        "id": "Nr1gOjg5GGci"
      },
      "source": [
        "## Filtrado de datos\n",
        "Una particularidad de este dataset es que contiene información sobre hogares que no tiene miembros en la unidad familiar. Cuantos registros se tienen con unidades familiares iguales o superiores a 1?:"
      ]
    },
    {
      "cell_type": "code",
      "execution_count": null,
      "metadata": {
        "id": "GGlr0tnKGGci",
        "outputId": "1c4c1c9a-aa01-4d3a-a8b0-8205111d6f3a"
      },
      "outputs": [
        {
          "data": {
            "text/plain": [
              "32079"
            ]
          },
          "execution_count": 101,
          "metadata": {},
          "output_type": "execute_result"
        }
      ],
      "source": [
        "mask = dfc[dfc.MeanHHSz >= 1]\n",
        "len(mask)"
      ]
    },
    {
      "cell_type": "markdown",
      "metadata": {
        "id": "IJEuivwyGGci"
      },
      "source": [
        "En este caso vamos a trabajar sólo con aquellos registros con unidades familiares mayores o iguales que 2, para ello tienes que filtrar los datos y quedarte solo con dichos datos."
      ]
    },
    {
      "cell_type": "code",
      "execution_count": null,
      "metadata": {
        "id": "YnBsoEaRGGci"
      },
      "outputs": [],
      "source": [
        "df = dfc[dfc.MeanHHSz >= 2]\n"
      ]
    },
    {
      "cell_type": "markdown",
      "metadata": {
        "id": "6PsczRdqGGci"
      },
      "source": [
        "De esta manera hemos filtrado los datos y podemos ver el resultado:"
      ]
    },
    {
      "cell_type": "code",
      "execution_count": null,
      "metadata": {
        "scrolled": true,
        "id": "P0RuuaTsGGci",
        "outputId": "75cfc4e4-87ed-4488-bf8a-2c1caa713934"
      },
      "outputs": [
        {
          "data": {
            "text/html": [
              "<div>\n",
              "<style scoped>\n",
              "    .dataframe tbody tr th:only-of-type {\n",
              "        vertical-align: middle;\n",
              "    }\n",
              "\n",
              "    .dataframe tbody tr th {\n",
              "        vertical-align: top;\n",
              "    }\n",
              "\n",
              "    .dataframe thead th {\n",
              "        text-align: right;\n",
              "    }\n",
              "</style>\n",
              "<table border=\"1\" class=\"dataframe\">\n",
              "  <thead>\n",
              "    <tr style=\"text-align: right;\">\n",
              "      <th></th>\n",
              "      <th>Numrow</th>\n",
              "      <th>ID</th>\n",
              "      <th>LocX</th>\n",
              "      <th>LocY</th>\n",
              "      <th>RegDens</th>\n",
              "      <th>RegPop</th>\n",
              "      <th>MedHHInc</th>\n",
              "      <th>MeanHHSz</th>\n",
              "    </tr>\n",
              "  </thead>\n",
              "  <tbody>\n",
              "    <tr>\n",
              "      <th>0</th>\n",
              "      <td>0</td>\n",
              "      <td>00601</td>\n",
              "      <td>-66.749472</td>\n",
              "      <td>18.180103</td>\n",
              "      <td>70.0</td>\n",
              "      <td>19143.0</td>\n",
              "      <td>9888.0</td>\n",
              "      <td>3.24</td>\n",
              "    </tr>\n",
              "    <tr>\n",
              "      <th>1</th>\n",
              "      <td>1</td>\n",
              "      <td>00602</td>\n",
              "      <td>-67.180247</td>\n",
              "      <td>18.363285</td>\n",
              "      <td>83.0</td>\n",
              "      <td>42042.0</td>\n",
              "      <td>11384.0</td>\n",
              "      <td>3.10</td>\n",
              "    </tr>\n",
              "    <tr>\n",
              "      <th>2</th>\n",
              "      <td>2</td>\n",
              "      <td>00603</td>\n",
              "      <td>-67.134224</td>\n",
              "      <td>18.448619</td>\n",
              "      <td>86.0</td>\n",
              "      <td>55592.0</td>\n",
              "      <td>10748.0</td>\n",
              "      <td>2.84</td>\n",
              "    </tr>\n",
              "    <tr>\n",
              "      <th>3</th>\n",
              "      <td>3</td>\n",
              "      <td>00604</td>\n",
              "      <td>-67.136995</td>\n",
              "      <td>18.498987</td>\n",
              "      <td>83.0</td>\n",
              "      <td>3844.0</td>\n",
              "      <td>31199.0</td>\n",
              "      <td>3.00</td>\n",
              "    </tr>\n",
              "    <tr>\n",
              "      <th>4</th>\n",
              "      <td>4</td>\n",
              "      <td>00606</td>\n",
              "      <td>-66.958807</td>\n",
              "      <td>18.182151</td>\n",
              "      <td>65.0</td>\n",
              "      <td>6449.0</td>\n",
              "      <td>9243.0</td>\n",
              "      <td>3.20</td>\n",
              "    </tr>\n",
              "  </tbody>\n",
              "</table>\n",
              "</div>"
            ],
            "text/plain": [
              "   Numrow     ID       LocX       LocY  RegDens   RegPop  MedHHInc  MeanHHSz\n",
              "0       0  00601 -66.749472  18.180103     70.0  19143.0    9888.0      3.24\n",
              "1       1  00602 -67.180247  18.363285     83.0  42042.0   11384.0      3.10\n",
              "2       2  00603 -67.134224  18.448619     86.0  55592.0   10748.0      2.84\n",
              "3       3  00604 -67.136995  18.498987     83.0   3844.0   31199.0      3.00\n",
              "4       4  00606 -66.958807  18.182151     65.0   6449.0    9243.0      3.20"
            ]
          },
          "execution_count": 103,
          "metadata": {},
          "output_type": "execute_result"
        }
      ],
      "source": [
        "df.head()"
      ]
    },
    {
      "cell_type": "markdown",
      "metadata": {
        "id": "3wRVExKlGGci"
      },
      "source": [
        "## Visualización de los datos\n",
        "Para hacernos una idea de los datos podemos generar algunos gráficos con las principales características de los datos. Podemos utilizar gráficos de barras, sectores, histograma de frecuencias."
      ]
    },
    {
      "cell_type": "code",
      "execution_count": null,
      "metadata": {
        "scrolled": true,
        "id": "m1BaJLBrGGcj",
        "outputId": "5a8cc9ad-b44f-4a7f-9498-a6a019896c17"
      },
      "outputs": [
        {
          "data": {
            "image/png": "[encoded data removed]",
            "text/plain": [
              "<Figure size 432x288 with 1 Axes>"
            ]
          },
          "metadata": {
            "needs_background": "light"
          },
          "output_type": "display_data"
        }
      ],
      "source": [
        "plt.scatter(df.LocX, df.LocY)\n",
        "plt.show()"
      ]
    },
    {
      "cell_type": "markdown",
      "metadata": {
        "id": "8kY2nn1hGGcj"
      },
      "source": [
        "* ¿Qué nos están diciendo estos gráficos sobre los datos?\n",
        "\n",
        "El grafico previo nos da la información de que los datos son hogares que se encuentran en EEUU.\n",
        "\n",
        "* ¿Aprecias normalidad de los datos? Genera un histograma con cada variable que consideres y revisa si ¿Tiene forma de campana?\n"
      ]
    },
    {
      "cell_type": "code",
      "execution_count": null,
      "metadata": {
        "id": "YRwVSCVjGGcj",
        "outputId": "f52bebf2-0b17-4acf-98c3-faa0b05d69b1"
      },
      "outputs": [
        {
          "data": {
            "text/plain": [
              "<function matplotlib.pyplot.show(close=None, block=None)>"
            ]
          },
          "execution_count": 105,
          "metadata": {},
          "output_type": "execute_result"
        },
        {
          "data": {
            "image/png": "[encoded data removed]",
            "text/plain": [
              "<Figure size 432x288 with 1 Axes>"
            ]
          },
          "metadata": {
            "needs_background": "light"
          },
          "output_type": "display_data"
        }
      ],
      "source": [
        "plt.hist(df.MedHHInc, bins=20)\n",
        "plt.show"
      ]
    },
    {
      "cell_type": "code",
      "execution_count": null,
      "metadata": {
        "id": "oItIufWBGGcj",
        "outputId": "df363d03-bcf6-4bc0-d39a-e17c01a63b54"
      },
      "outputs": [
        {
          "data": {
            "text/plain": [
              "<function matplotlib.pyplot.show(close=None, block=None)>"
            ]
          },
          "execution_count": 106,
          "metadata": {},
          "output_type": "execute_result"
        },
        {
          "data": {
            "image/png": "[encoded data removed]",
            "text/plain": [
              "<Figure size 432x288 with 1 Axes>"
            ]
          },
          "metadata": {
            "needs_background": "light"
          },
          "output_type": "display_data"
        }
      ],
      "source": [
        "plt.hist(df.RegPop, bins=20)\n",
        "plt.show"
      ]
    },
    {
      "cell_type": "code",
      "execution_count": null,
      "metadata": {
        "id": "jAwhsD3TGGcj",
        "outputId": "aa40877a-0d39-442f-c87a-6f34e7a60026"
      },
      "outputs": [
        {
          "data": {
            "text/plain": [
              "<function matplotlib.pyplot.show(close=None, block=None)>"
            ]
          },
          "execution_count": 107,
          "metadata": {},
          "output_type": "execute_result"
        },
        {
          "data": {
            "image/png": "[encoded data removed]",
            "text/plain": [
              "<Figure size 432x288 with 1 Axes>"
            ]
          },
          "metadata": {
            "needs_background": "light"
          },
          "output_type": "display_data"
        }
      ],
      "source": [
        "plt.hist(df.RegDens, bins=30)\n",
        "plt.show"
      ]
    },
    {
      "cell_type": "code",
      "execution_count": null,
      "metadata": {
        "id": "xSyBn4OJGGcj",
        "outputId": "38b04467-e8d9-40be-ec34-c8ca1d0d8110"
      },
      "outputs": [
        {
          "data": {
            "text/plain": [
              "<function matplotlib.pyplot.show(close=None, block=None)>"
            ]
          },
          "execution_count": 108,
          "metadata": {},
          "output_type": "execute_result"
        },
        {
          "data": {
            "image/png": "[encoded data removed]",
            "text/plain": [
              "<Figure size 432x288 with 1 Axes>"
            ]
          },
          "metadata": {
            "needs_background": "light"
          },
          "output_type": "display_data"
        }
      ],
      "source": [
        "plt.hist(df.MeanHHSz, bins=30)\n",
        "plt.show"
      ]
    },
    {
      "cell_type": "markdown",
      "metadata": {
        "id": "Jw5OXk95GGck"
      },
      "source": [
        "También puedes revisar la relación que existe entre las variables, la forma mas sencilla es mediante un gráfico de dispersión o calculando el coeficiente de correlación para revisar las relaciones lineales."
      ]
    },
    {
      "cell_type": "markdown",
      "metadata": {
        "id": "7RdjWOYRGGck"
      },
      "source": [
        "#### Algunos apuntes sobre el coeficiente de correlación\n",
        "El [coeficiente de correlación ](https://es.wikipedia.org/wiki/Coeficiente_de_correlaci%C3%B3n_de_Pearson) es una medida del grado de *dependencia lineal* entre dos variables. El [coeficiente de correlación](https://es.wikipedia.org/wiki/Coeficiente_de_correlaci%C3%B3n_de_Pearson) oscila entre -1 y 1. Un valor de 1 significa que una [ecuación lineal](https://es.wikipedia.org/wiki/Ecuaci%C3%B3n_de_primer_grado) describe la relación entre las dos variables a la perfección, con todos los puntos de datos cayendo sobre una línea recta de pendiente positiva. Un valor de -1 implica que todos los puntos de datos se encuentran en una línea con pendiente negativa. Un valor de 0 implica que no existe una correlación lineal entre las variables. Lo podemos calcular con el método `corr`."
      ]
    },
    {
      "cell_type": "code",
      "execution_count": null,
      "metadata": {
        "id": "iS3stpMAGGck",
        "outputId": "bc99de67-1347-488b-d18e-d3a3cc1fe18e"
      },
      "outputs": [
        {
          "data": {
            "text/html": [
              "<div>\n",
              "<style scoped>\n",
              "    .dataframe tbody tr th:only-of-type {\n",
              "        vertical-align: middle;\n",
              "    }\n",
              "\n",
              "    .dataframe tbody tr th {\n",
              "        vertical-align: top;\n",
              "    }\n",
              "\n",
              "    .dataframe thead th {\n",
              "        text-align: right;\n",
              "    }\n",
              "</style>\n",
              "<table border=\"1\" class=\"dataframe\">\n",
              "  <thead>\n",
              "    <tr style=\"text-align: right;\">\n",
              "      <th></th>\n",
              "      <th>Numrow</th>\n",
              "      <th>LocX</th>\n",
              "      <th>LocY</th>\n",
              "      <th>RegDens</th>\n",
              "      <th>RegPop</th>\n",
              "      <th>MedHHInc</th>\n",
              "      <th>MeanHHSz</th>\n",
              "    </tr>\n",
              "  </thead>\n",
              "  <tbody>\n",
              "    <tr>\n",
              "      <th>Numrow</th>\n",
              "      <td>1.000000</td>\n",
              "      <td>-0.888357</td>\n",
              "      <td>-0.043701</td>\n",
              "      <td>-0.279940</td>\n",
              "      <td>0.002020</td>\n",
              "      <td>-0.111858</td>\n",
              "      <td>0.143020</td>\n",
              "    </tr>\n",
              "    <tr>\n",
              "      <th>LocX</th>\n",
              "      <td>-0.888357</td>\n",
              "      <td>1.000000</td>\n",
              "      <td>-0.116894</td>\n",
              "      <td>0.254617</td>\n",
              "      <td>-0.015625</td>\n",
              "      <td>0.067608</td>\n",
              "      <td>-0.184683</td>\n",
              "    </tr>\n",
              "    <tr>\n",
              "      <th>LocY</th>\n",
              "      <td>-0.043701</td>\n",
              "      <td>-0.116894</td>\n",
              "      <td>1.000000</td>\n",
              "      <td>-0.161722</td>\n",
              "      <td>-0.180388</td>\n",
              "      <td>0.121010</td>\n",
              "      <td>-0.074380</td>\n",
              "    </tr>\n",
              "    <tr>\n",
              "      <th>RegDens</th>\n",
              "      <td>-0.279940</td>\n",
              "      <td>0.254617</td>\n",
              "      <td>-0.161722</td>\n",
              "      <td>1.000000</td>\n",
              "      <td>0.623130</td>\n",
              "      <td>0.367567</td>\n",
              "      <td>0.087272</td>\n",
              "    </tr>\n",
              "    <tr>\n",
              "      <th>RegPop</th>\n",
              "      <td>0.002020</td>\n",
              "      <td>-0.015625</td>\n",
              "      <td>-0.180388</td>\n",
              "      <td>0.623130</td>\n",
              "      <td>1.000000</td>\n",
              "      <td>0.202925</td>\n",
              "      <td>0.108856</td>\n",
              "    </tr>\n",
              "    <tr>\n",
              "      <th>MedHHInc</th>\n",
              "      <td>-0.111858</td>\n",
              "      <td>0.067608</td>\n",
              "      <td>0.121010</td>\n",
              "      <td>0.367567</td>\n",
              "      <td>0.202925</td>\n",
              "      <td>1.000000</td>\n",
              "      <td>0.154244</td>\n",
              "    </tr>\n",
              "    <tr>\n",
              "      <th>MeanHHSz</th>\n",
              "      <td>0.143020</td>\n",
              "      <td>-0.184683</td>\n",
              "      <td>-0.074380</td>\n",
              "      <td>0.087272</td>\n",
              "      <td>0.108856</td>\n",
              "      <td>0.154244</td>\n",
              "      <td>1.000000</td>\n",
              "    </tr>\n",
              "  </tbody>\n",
              "</table>\n",
              "</div>"
            ],
            "text/plain": [
              "            Numrow      LocX      LocY   RegDens    RegPop  MedHHInc  MeanHHSz\n",
              "Numrow    1.000000 -0.888357 -0.043701 -0.279940  0.002020 -0.111858  0.143020\n",
              "LocX     -0.888357  1.000000 -0.116894  0.254617 -0.015625  0.067608 -0.184683\n",
              "LocY     -0.043701 -0.116894  1.000000 -0.161722 -0.180388  0.121010 -0.074380\n",
              "RegDens  -0.279940  0.254617 -0.161722  1.000000  0.623130  0.367567  0.087272\n",
              "RegPop    0.002020 -0.015625 -0.180388  0.623130  1.000000  0.202925  0.108856\n",
              "MedHHInc -0.111858  0.067608  0.121010  0.367567  0.202925  1.000000  0.154244\n",
              "MeanHHSz  0.143020 -0.184683 -0.074380  0.087272  0.108856  0.154244  1.000000"
            ]
          },
          "execution_count": 109,
          "metadata": {},
          "output_type": "execute_result"
        }
      ],
      "source": [
        "# coeficiente de correlación\n",
        "corr_matrix = df.corr()\n",
        "corr_matrix"
      ]
    },
    {
      "cell_type": "code",
      "execution_count": null,
      "metadata": {
        "id": "HtgelJz4GGck",
        "outputId": "07d6cbb7-b30c-4ef7-a787-f314256e07bc"
      },
      "outputs": [
        {
          "data": {
            "text/plain": [
              "<AxesSubplot:>"
            ]
          },
          "execution_count": 110,
          "metadata": {},
          "output_type": "execute_result"
        },
        {
          "data": {
            "image/png": "[encoded data removed]",
            "text/plain": [
              "<Figure size 432x288 with 2 Axes>"
            ]
          },
          "metadata": {
            "needs_background": "light"
          },
          "output_type": "display_data"
        }
      ],
      "source": [
        "sns.heatmap(corr_matrix, annot=True, cmap='coolwarm', linewidths=.5)"
      ]
    },
    {
      "cell_type": "markdown",
      "metadata": {
        "id": "cTL0jq02GGck"
      },
      "source": [
        "#### Recuerda también que correlación no implica causalidad.\n",
        "Todo esto de la mala interpretación de la correlación también se encuentra, y en demasiadas ocasiones, en estudios científicos supuestamente serios. No son pocos los estudios que al encontrar una cierta relación entre dos variables presentes en los sujetos estudiados se tiran a la piscina afirmando que por tanto una de ellas es la causa de la otra, cuando en realidad en dichos estudios no hay ninguna evidencia de que esto sea verdad (simplemente hay correlación)."
      ]
    },
    {
      "cell_type": "markdown",
      "metadata": {
        "id": "8Rq9HgYMGGck"
      },
      "source": [
        "Echa un vistazo a este link y sorprendete con las \"Spurious correlations\"  http://tylervigen.com/spurious-correlations"
      ]
    },
    {
      "cell_type": "markdown",
      "metadata": {
        "id": "AEbF7hjbGGck"
      },
      "source": [
        "<img src=\"correlacion.png\" style=\"height: 150px\">"
      ]
    },
    {
      "cell_type": "markdown",
      "metadata": {
        "id": "B0POOCdXGGck"
      },
      "source": [
        "## Transformación de variables\n",
        "\n",
        "Una herramienta muy interesante a utilizar en aquellas variables que no cumplan con los criterios de normalidad es aplicar alguna transformación sobre las mismas, en particular el logaritmo funciona muy bien, y después de aplicarla confirma si los datos transformados se comportan como una normal.\n",
        "\n",
        "Las ventajas de aplicar una transformación cuando la distribución de la variable no es normal son las siguientes:\n",
        "\n",
        "* Que el efecto de posibles outliers sea menor.\n",
        "* En algunos casos podría inducir normalidad, condición no necesaria, pero deseable.\n",
        "* Que los rangos de las variables sean más comparables"
      ]
    },
    {
      "cell_type": "markdown",
      "metadata": {
        "id": "PrWQp01xGGcl"
      },
      "source": [
        "<img src=\"logaritmo.png\" style=\"height: 200px\">"
      ]
    },
    {
      "cell_type": "markdown",
      "metadata": {
        "id": "Frszt36MGGcl"
      },
      "source": [
        "## Tratamiento de los datos, preprocessing\n",
        "\n",
        "Respecto al tratamiento de datos, se llevarán a cabo las siguientes tareas:\n",
        "\n",
        "* Imputación de missings.- la única variable que contiene valores missings es RegDens. Se predecirán sus valores a partir del resto de explicativas.\n",
        "\n",
        "* Tratamiento de outliers.- se podrían filtras aquellas observaciones atípicas respecto de cada una de las variables. Hay que tener en cuenta que esto implicaría la pérdida de algunas regiones.\n",
        "\n",
        "* Alternativamente (para no perder registros) o de forma adicional, se puede aplicar una transformación a las variables con las ventajas ya mencionadas"
      ]
    },
    {
      "cell_type": "markdown",
      "metadata": {
        "id": "AZFQbK8bGGcl"
      },
      "source": [
        "## Imputación de valores ausentes\n",
        "En los pasos anteriores hemos identificado los outliers y les hemos asignado a un valor nulo."
      ]
    },
    {
      "cell_type": "markdown",
      "metadata": {
        "id": "r5y8TDeUGGcl"
      },
      "source": [
        "Ahora en este paso lo que vamos a hacer es darles un valor a los outliers para tener un dataset sin valores nulos y completar también si hay datos missing. Utiliza la técnica que consideres mas adecuada."
      ]
    },
    {
      "cell_type": "markdown",
      "metadata": {
        "id": "q6JDWImUGGcl"
      },
      "source": [
        "Recuerda que una opción es predecir los valores missing a partir de otras variables explicativas a través de una regresión."
      ]
    },
    {
      "cell_type": "markdown",
      "metadata": {
        "id": "8Dk5nHB_GGcl"
      },
      "source": [
        "Para mostrarte como realizar una regresión simple te incluyo un ejemplo a continuación.\n",
        "En primer lugar generamos unos datos \"casi aleatorios\" que nos sirvan de ejemplo. Se trata de ajustar una línea que siga el modelo siguiente:\n",
        "$$\n",
        "y = ax + b\n",
        "$$\n",
        "donde $a$ es conocida como *slope* o *pendiente*, y $b$ es conocida como *intercept* o *constante*.\n",
        "\n",
        "Consideramos los siguientes datos, que mostramos con gráfico de dispersión y que consiste en un modelo con pendiente 2 y constante -5:"
      ]
    },
    {
      "cell_type": "code",
      "execution_count": null,
      "metadata": {
        "id": "VIqd7WP_GGcm",
        "outputId": "5e55c326-efa2-4cc2-ad9a-dc52e300f634"
      },
      "outputs": [
        {
          "data": {
            "image/png": "[encoded data removed]",
            "text/plain": [
              "<Figure size 432x288 with 1 Axes>"
            ]
          },
          "metadata": {
            "needs_background": "light"
          },
          "output_type": "display_data"
        }
      ],
      "source": [
        "rng = np.random.RandomState(1)\n",
        "x = 10 * rng.rand(50)\n",
        "y = 2 * x - 5 + rng.randn(50)\n",
        "plt.scatter(x, y);"
      ]
    },
    {
      "cell_type": "markdown",
      "metadata": {
        "id": "YHHSdTcOGGcm"
      },
      "source": [
        "Podemos utilizar el estimador Scikit-Learn's LinearRegression para ajustar los datos y construir la recta que mejor se ajusta:"
      ]
    },
    {
      "cell_type": "code",
      "execution_count": null,
      "metadata": {
        "scrolled": true,
        "id": "nR9VmRxEGGcm",
        "outputId": "89dc7874-1450-493a-eb09-1d82b1345f44"
      },
      "outputs": [
        {
          "data": {
            "image/png": "[encoded data removed]",
            "text/plain": [
              "<Figure size 432x288 with 1 Axes>"
            ]
          },
          "metadata": {
            "needs_background": "light"
          },
          "output_type": "display_data"
        }
      ],
      "source": [
        "from sklearn.linear_model import LinearRegression\n",
        "model = LinearRegression(fit_intercept=True)\n",
        "\n",
        "model.fit(x[:, np.newaxis], y)\n",
        "\n",
        "xfit = np.linspace(0, 10, 1000)\n",
        "yfit = model.predict(xfit[:, np.newaxis])\n",
        "\n",
        "plt.scatter(x, y)\n",
        "plt.plot(xfit, yfit);"
      ]
    },
    {
      "cell_type": "markdown",
      "metadata": {
        "id": "OJvR8PDmGGcm"
      },
      "source": [
        "Y ya lo tenemos, la pendiente y la constante del modelo están en los parámetros fit, que como sabemos aparecen en Scikit-Learn marcados con un guión bajo.\n",
        "Los parámetros relevantes son ``coef_`` y ``intercept_``. Y podemos utilizar cualquier nuevo dato de x para estimar y."
      ]
    },
    {
      "cell_type": "code",
      "execution_count": null,
      "metadata": {
        "id": "9SRDljHIGGcm"
      },
      "outputs": [],
      "source": [
        "df['RegPop_log'] = np.log(df['RegPop'])\n",
        "df['MedHHInc_log'] = np.log(df['MedHHInc'])"
      ]
    },
    {
      "cell_type": "code",
      "execution_count": null,
      "metadata": {
        "id": "kQGbvnb2GGcm",
        "outputId": "3efafef1-bcd7-4919-93fc-50700e519484"
      },
      "outputs": [
        {
          "data": {
            "text/plain": [
              "<function matplotlib.pyplot.show(close=None, block=None)>"
            ]
          },
          "execution_count": 114,
          "metadata": {},
          "output_type": "execute_result"
        },
        {
          "data": {
            "image/png": "[encoded data removed]",
            "text/plain": [
              "<Figure size 432x288 with 1 Axes>"
            ]
          },
          "metadata": {
            "needs_background": "light"
          },
          "output_type": "display_data"
        }
      ],
      "source": [
        "plt.hist(df.RegPop_log, bins=20)\n",
        "plt.show"
      ]
    },
    {
      "cell_type": "code",
      "execution_count": null,
      "metadata": {
        "id": "qfM74PcuGGcm",
        "outputId": "54901027-abb0-4cc5-c6d9-da6bfd78517a"
      },
      "outputs": [
        {
          "data": {
            "text/plain": [
              "<function matplotlib.pyplot.show(close=None, block=None)>"
            ]
          },
          "execution_count": 115,
          "metadata": {},
          "output_type": "execute_result"
        },
        {
          "data": {
            "image/png": "[encoded data removed]",
            "text/plain": [
              "<Figure size 432x288 with 1 Axes>"
            ]
          },
          "metadata": {
            "needs_background": "light"
          },
          "output_type": "display_data"
        }
      ],
      "source": [
        "plt.hist(df.MedHHInc_log, bins=30)\n",
        "plt.show"
      ]
    },
    {
      "cell_type": "code",
      "execution_count": null,
      "metadata": {
        "id": "ovTim7oXGGcn"
      },
      "outputs": [],
      "source": [
        "df = df.drop(columns = ['Numrow', 'MedHHInc', 'RegPop'])"
      ]
    },
    {
      "cell_type": "code",
      "execution_count": null,
      "metadata": {
        "id": "4ED_yTJ-GGcn",
        "outputId": "ff20e3e2-e744-45c0-a8d6-ac1d399ad535"
      },
      "outputs": [
        {
          "name": "stdout",
          "output_type": "stream",
          "text": [
            "<class 'pandas.core.frame.DataFrame'>\n",
            "Int64Index: 30899 entries, 0 to 33177\n",
            "Data columns (total 7 columns):\n",
            " #   Column        Non-Null Count  Dtype  \n",
            "---  ------        --------------  -----  \n",
            " 0   ID            30899 non-null  object \n",
            " 1   LocX          30899 non-null  float64\n",
            " 2   LocY          30899 non-null  float64\n",
            " 3   RegDens       30899 non-null  float64\n",
            " 4   MeanHHSz      30899 non-null  float64\n",
            " 5   RegPop_log    30899 non-null  float64\n",
            " 6   MedHHInc_log  30899 non-null  float64\n",
            "dtypes: float64(6), object(1)\n",
            "memory usage: 1.9+ MB\n"
          ]
        }
      ],
      "source": [
        "df.info()"
      ]
    },
    {
      "cell_type": "markdown",
      "metadata": {
        "collapsed": true,
        "id": "028SfnQbGGcn"
      },
      "source": [
        "* ¿Consideras que dispones ahora de un dataset mas adecuado para hacer un clustering? ¿Por qué?\n",
        "\n",
        "Aparentemente si, no hay valores nulos en el dataset y he normalizado 2 variables, utilizando la transformación logarítmica, que en su distribución tenían la cola de la derecha un poco alargada y he conseguido darles una distribución más normal."
      ]
    },
    {
      "cell_type": "markdown",
      "metadata": {
        "collapsed": true,
        "id": "MU2GQRtXGGcn"
      },
      "source": []
    },
    {
      "cell_type": "markdown",
      "metadata": {
        "id": "hastHqqwGGcn"
      },
      "source": [
        "# Clustering jerárquico aglomerativo y kmeans\n",
        "\n",
        "En esta parte queremos aplicar el método K-means ( y en particular kmeans ++) al dataset anterior con el objetivo de determinar los clusters mas adecuados para abrir tiendas e incluso la tipología de tiendas que consideremos mas apropiada para los diferentes clusters.\n",
        "\n",
        "* Aunque existen otras técnicas, se recomienda aplicar un método de clusterización jerárquico aglomerativo en una primera etapa y a través del dendrograma seleccionar el número de clusters adecuado\n",
        "\n",
        "* Posteriormente aplicamos kmeans sobre los clusters estimados por el metodo jerárquico."
      ]
    },
    {
      "cell_type": "markdown",
      "metadata": {
        "id": "MKNSIBzZGGcn"
      },
      "source": [
        "Para que sea mas productivo, la recomendación es realizarlo de la siguiente forma:\n",
        "\n",
        "* Primero seleccionar una submuestra de 100-200 registros para visualizar adecuadamente el dendrograma y de ahí extraer el número de clusters.\n",
        "* Aplicar kmeans al número de clusters elegido previamente.\n",
        "\n",
        "Si el resultado no fuese adecuado ejecutar kmeans variando el número de clusters de acuerdo a la información proporcionada por el dendrograma."
      ]
    },
    {
      "cell_type": "code",
      "execution_count": null,
      "metadata": {
        "id": "Z1fKFbBdGGcn"
      },
      "outputs": [],
      "source": [
        "submuestra = df.sample(200)"
      ]
    },
    {
      "cell_type": "code",
      "execution_count": null,
      "metadata": {
        "scrolled": true,
        "id": "4DWIMAO-GGcn",
        "outputId": "2bbce7c9-230a-4491-a48e-c76844987a7c"
      },
      "outputs": [
        {
          "data": {
            "text/html": [
              "<div>\n",
              "<style scoped>\n",
              "    .dataframe tbody tr th:only-of-type {\n",
              "        vertical-align: middle;\n",
              "    }\n",
              "\n",
              "    .dataframe tbody tr th {\n",
              "        vertical-align: top;\n",
              "    }\n",
              "\n",
              "    .dataframe thead th {\n",
              "        text-align: right;\n",
              "    }\n",
              "</style>\n",
              "<table border=\"1\" class=\"dataframe\">\n",
              "  <thead>\n",
              "    <tr style=\"text-align: right;\">\n",
              "      <th></th>\n",
              "      <th>ID</th>\n",
              "      <th>LocX</th>\n",
              "      <th>LocY</th>\n",
              "      <th>RegDens</th>\n",
              "      <th>MeanHHSz</th>\n",
              "      <th>RegPop_log</th>\n",
              "      <th>MedHHInc_log</th>\n",
              "    </tr>\n",
              "  </thead>\n",
              "  <tbody>\n",
              "    <tr>\n",
              "      <th>21568</th>\n",
              "      <td>62565</td>\n",
              "      <td>-88.801536</td>\n",
              "      <td>39.409126</td>\n",
              "      <td>48.0</td>\n",
              "      <td>2.35</td>\n",
              "      <td>8.946896</td>\n",
              "      <td>10.518322</td>\n",
              "    </tr>\n",
              "    <tr>\n",
              "      <th>5696</th>\n",
              "      <td>18848</td>\n",
              "      <td>-76.452988</td>\n",
              "      <td>41.762543</td>\n",
              "      <td>51.0</td>\n",
              "      <td>2.46</td>\n",
              "      <td>9.140990</td>\n",
              "      <td>10.488660</td>\n",
              "    </tr>\n",
              "    <tr>\n",
              "      <th>26597</th>\n",
              "      <td>76513</td>\n",
              "      <td>-97.486425</td>\n",
              "      <td>31.073329</td>\n",
              "      <td>69.0</td>\n",
              "      <td>2.67</td>\n",
              "      <td>10.235414</td>\n",
              "      <td>10.582333</td>\n",
              "    </tr>\n",
              "    <tr>\n",
              "      <th>4619</th>\n",
              "      <td>15847</td>\n",
              "      <td>-79.030800</td>\n",
              "      <td>41.084340</td>\n",
              "      <td>64.0</td>\n",
              "      <td>2.67</td>\n",
              "      <td>5.598422</td>\n",
              "      <td>10.175421</td>\n",
              "    </tr>\n",
              "    <tr>\n",
              "      <th>4569</th>\n",
              "      <td>15736</td>\n",
              "      <td>-79.343324</td>\n",
              "      <td>40.694906</td>\n",
              "      <td>83.0</td>\n",
              "      <td>2.42</td>\n",
              "      <td>5.877736</td>\n",
              "      <td>10.491274</td>\n",
              "    </tr>\n",
              "  </tbody>\n",
              "</table>\n",
              "</div>"
            ],
            "text/plain": [
              "          ID       LocX       LocY  RegDens  MeanHHSz  RegPop_log  \\\n",
              "21568  62565 -88.801536  39.409126     48.0      2.35    8.946896   \n",
              "5696   18848 -76.452988  41.762543     51.0      2.46    9.140990   \n",
              "26597  76513 -97.486425  31.073329     69.0      2.67   10.235414   \n",
              "4619   15847 -79.030800  41.084340     64.0      2.67    5.598422   \n",
              "4569   15736 -79.343324  40.694906     83.0      2.42    5.877736   \n",
              "\n",
              "       MedHHInc_log  \n",
              "21568     10.518322  \n",
              "5696      10.488660  \n",
              "26597     10.582333  \n",
              "4619      10.175421  \n",
              "4569      10.491274  "
            ]
          },
          "execution_count": 119,
          "metadata": {},
          "output_type": "execute_result"
        }
      ],
      "source": [
        "submuestra.head()"
      ]
    },
    {
      "cell_type": "code",
      "execution_count": null,
      "metadata": {
        "id": "u9Q_2AO9GGcn"
      },
      "outputs": [],
      "source": [
        "points = submuestra[['LocX', 'LocY', 'RegDens', 'MeanHHSz','RegPop_log', 'MedHHInc_log']].values"
      ]
    },
    {
      "cell_type": "code",
      "execution_count": null,
      "metadata": {
        "scrolled": true,
        "id": "c1wYUlMqGGco",
        "outputId": "5ed58079-ed66-4b29-8cb4-9622d80d8c40"
      },
      "outputs": [
        {
          "data": {
            "image/png": "[encoded data removed]",
            "text/plain": [
              "<Figure size 432x288 with 1 Axes>"
            ]
          },
          "metadata": {
            "needs_background": "light"
          },
          "output_type": "display_data"
        }
      ],
      "source": [
        "dendrogram = sch.dendrogram(sch.linkage(points, method='ward'))\n",
        "hc = AgglomerativeClustering(n_clusters=4, affinity = 'euclidean', linkage = 'ward')\n",
        "y_hc = hc.fit_predict(points)"
      ]
    },
    {
      "cell_type": "markdown",
      "metadata": {
        "id": "p5lc9XLTGGco"
      },
      "source": [
        "Viendo el dendograma, considero que el numero de clusters óptimo sería 5."
      ]
    },
    {
      "cell_type": "code",
      "execution_count": null,
      "metadata": {
        "id": "b0Ar4x75GGco"
      },
      "outputs": [],
      "source": [
        "n_clusters = 5\n",
        "df_kmeans = df[['LocX', 'LocY', 'RegDens', 'MeanHHSz','RegPop_log', 'MedHHInc_log']]\n",
        "\n",
        "kmeans_model = KMeans(n_clusters=n_clusters, init='k-means++', random_state=42)\n",
        "df_kmeans['cluster'] = kmeans_model.fit_predict(df_kmeans)"
      ]
    },
    {
      "cell_type": "code",
      "execution_count": null,
      "metadata": {
        "id": "AOg_O_diGGco",
        "outputId": "7f547580-e165-434c-9289-35ba953968d5"
      },
      "outputs": [
        {
          "data": {
            "text/plain": [
              "3    7854\n",
              "0    7642\n",
              "1    7288\n",
              "2    5732\n",
              "4    2383\n",
              "Name: cluster, dtype: int64"
            ]
          },
          "execution_count": 123,
          "metadata": {},
          "output_type": "execute_result"
        }
      ],
      "source": [
        "df_kmeans.cluster.value_counts()"
      ]
    },
    {
      "cell_type": "code",
      "execution_count": null,
      "metadata": {
        "id": "eR9UztQTGGco"
      },
      "outputs": [],
      "source": [
        "C = kmeans_model.cluster_centers_"
      ]
    },
    {
      "cell_type": "markdown",
      "metadata": {
        "id": "VWx1Q0rnGGco"
      },
      "source": [
        "# Perfiles de los clusters (profiling)"
      ]
    },
    {
      "cell_type": "markdown",
      "metadata": {
        "id": "eH2_3pNIGGco"
      },
      "source": [
        "Una vez generados los clusters adecuados tenemos que analizar el pérfil de cada uno de los segmentos, utilizando las variables que tenemos disponibles."
      ]
    },
    {
      "cell_type": "markdown",
      "metadata": {
        "id": "OZcE8hbVGGco"
      },
      "source": [
        "El análisis de los pérfiles nos ayudará a establecer las conclusiones y las recomendaciones."
      ]
    },
    {
      "cell_type": "code",
      "execution_count": null,
      "metadata": {
        "id": "Oqz2ph_SGGcp"
      },
      "outputs": [],
      "source": [
        "columns_of_interest = ['LocX', 'LocY', 'RegDens', 'MeanHHSz','RegPop_log', 'MedHHInc_log']\n",
        "\n",
        "cluster_profiles = df_kmeans.groupby('cluster')[columns_of_interest].agg(['mean', 'std', 'min', 'max'])"
      ]
    },
    {
      "cell_type": "code",
      "execution_count": null,
      "metadata": {
        "id": "GrYim9utGGcp",
        "outputId": "1e470b42-3ee0-428a-9a6c-025a27c42390"
      },
      "outputs": [
        {
          "data": {
            "text/html": [
              "<div>\n",
              "<style scoped>\n",
              "    .dataframe tbody tr th:only-of-type {\n",
              "        vertical-align: middle;\n",
              "    }\n",
              "\n",
              "    .dataframe tbody tr th {\n",
              "        vertical-align: top;\n",
              "    }\n",
              "\n",
              "    .dataframe thead tr th {\n",
              "        text-align: left;\n",
              "    }\n",
              "\n",
              "    .dataframe thead tr:last-of-type th {\n",
              "        text-align: right;\n",
              "    }\n",
              "</style>\n",
              "<table border=\"1\" class=\"dataframe\">\n",
              "  <thead>\n",
              "    <tr>\n",
              "      <th></th>\n",
              "      <th colspan=\"4\" halign=\"left\">LocX</th>\n",
              "      <th colspan=\"4\" halign=\"left\">LocY</th>\n",
              "      <th colspan=\"2\" halign=\"left\">RegDens</th>\n",
              "      <th>...</th>\n",
              "      <th colspan=\"2\" halign=\"left\">MeanHHSz</th>\n",
              "      <th colspan=\"4\" halign=\"left\">RegPop_log</th>\n",
              "      <th colspan=\"4\" halign=\"left\">MedHHInc_log</th>\n",
              "    </tr>\n",
              "    <tr>\n",
              "      <th></th>\n",
              "      <th>mean</th>\n",
              "      <th>std</th>\n",
              "      <th>min</th>\n",
              "      <th>max</th>\n",
              "      <th>mean</th>\n",
              "      <th>std</th>\n",
              "      <th>min</th>\n",
              "      <th>max</th>\n",
              "      <th>mean</th>\n",
              "      <th>std</th>\n",
              "      <th>...</th>\n",
              "      <th>min</th>\n",
              "      <th>max</th>\n",
              "      <th>mean</th>\n",
              "      <th>std</th>\n",
              "      <th>min</th>\n",
              "      <th>max</th>\n",
              "      <th>mean</th>\n",
              "      <th>std</th>\n",
              "      <th>min</th>\n",
              "      <th>max</th>\n",
              "    </tr>\n",
              "    <tr>\n",
              "      <th>cluster</th>\n",
              "      <th></th>\n",
              "      <th></th>\n",
              "      <th></th>\n",
              "      <th></th>\n",
              "      <th></th>\n",
              "      <th></th>\n",
              "      <th></th>\n",
              "      <th></th>\n",
              "      <th></th>\n",
              "      <th></th>\n",
              "      <th></th>\n",
              "      <th></th>\n",
              "      <th></th>\n",
              "      <th></th>\n",
              "      <th></th>\n",
              "      <th></th>\n",
              "      <th></th>\n",
              "      <th></th>\n",
              "      <th></th>\n",
              "      <th></th>\n",
              "      <th></th>\n",
              "    </tr>\n",
              "  </thead>\n",
              "  <tbody>\n",
              "    <tr>\n",
              "      <th>0</th>\n",
              "      <td>-87.058112</td>\n",
              "      <td>7.755197</td>\n",
              "      <td>-118.467458</td>\n",
              "      <td>-65.292575</td>\n",
              "      <td>38.456533</td>\n",
              "      <td>4.498771</td>\n",
              "      <td>18.311149</td>\n",
              "      <td>48.890886</td>\n",
              "      <td>30.167888</td>\n",
              "      <td>8.389872</td>\n",
              "      <td>...</td>\n",
              "      <td>2.0</td>\n",
              "      <td>5.95</td>\n",
              "      <td>7.224166</td>\n",
              "      <td>1.070892</td>\n",
              "      <td>1.386294</td>\n",
              "      <td>10.534573</td>\n",
              "      <td>10.398378</td>\n",
              "      <td>0.272836</td>\n",
              "      <td>7.823646</td>\n",
              "      <td>11.933857</td>\n",
              "    </tr>\n",
              "    <tr>\n",
              "      <th>1</th>\n",
              "      <td>-82.003063</td>\n",
              "      <td>7.847847</td>\n",
              "      <td>-102.130157</td>\n",
              "      <td>-65.627617</td>\n",
              "      <td>38.010829</td>\n",
              "      <td>5.304068</td>\n",
              "      <td>17.964529</td>\n",
              "      <td>47.943847</td>\n",
              "      <td>84.756723</td>\n",
              "      <td>8.364908</td>\n",
              "      <td>...</td>\n",
              "      <td>2.0</td>\n",
              "      <td>4.73</td>\n",
              "      <td>9.156187</td>\n",
              "      <td>1.680513</td>\n",
              "      <td>2.564949</td>\n",
              "      <td>11.877735</td>\n",
              "      <td>10.667252</td>\n",
              "      <td>0.445704</td>\n",
              "      <td>7.823646</td>\n",
              "      <td>12.206078</td>\n",
              "    </tr>\n",
              "    <tr>\n",
              "      <th>2</th>\n",
              "      <td>-105.787166</td>\n",
              "      <td>13.066090</td>\n",
              "      <td>-174.196289</td>\n",
              "      <td>-77.151703</td>\n",
              "      <td>41.032444</td>\n",
              "      <td>6.302268</td>\n",
              "      <td>19.101978</td>\n",
              "      <td>70.640902</td>\n",
              "      <td>11.995813</td>\n",
              "      <td>8.338773</td>\n",
              "      <td>...</td>\n",
              "      <td>2.0</td>\n",
              "      <td>8.49</td>\n",
              "      <td>6.439995</td>\n",
              "      <td>1.245891</td>\n",
              "      <td>1.386294</td>\n",
              "      <td>10.881174</td>\n",
              "      <td>10.361983</td>\n",
              "      <td>0.290514</td>\n",
              "      <td>7.823646</td>\n",
              "      <td>11.754365</td>\n",
              "    </tr>\n",
              "    <tr>\n",
              "      <th>3</th>\n",
              "      <td>-83.714412</td>\n",
              "      <td>7.562093</td>\n",
              "      <td>-112.512796</td>\n",
              "      <td>-65.456036</td>\n",
              "      <td>38.495859</td>\n",
              "      <td>4.299596</td>\n",
              "      <td>18.003125</td>\n",
              "      <td>48.999101</td>\n",
              "      <td>56.927935</td>\n",
              "      <td>7.896933</td>\n",
              "      <td>...</td>\n",
              "      <td>2.0</td>\n",
              "      <td>7.31</td>\n",
              "      <td>8.169691</td>\n",
              "      <td>1.369204</td>\n",
              "      <td>2.833213</td>\n",
              "      <td>11.381529</td>\n",
              "      <td>10.559235</td>\n",
              "      <td>0.322196</td>\n",
              "      <td>7.823646</td>\n",
              "      <td>12.206078</td>\n",
              "    </tr>\n",
              "    <tr>\n",
              "      <th>4</th>\n",
              "      <td>-119.558092</td>\n",
              "      <td>10.137087</td>\n",
              "      <td>-171.700889</td>\n",
              "      <td>-99.798868</td>\n",
              "      <td>38.818924</td>\n",
              "      <td>6.841429</td>\n",
              "      <td>19.516132</td>\n",
              "      <td>71.299525</td>\n",
              "      <td>78.504406</td>\n",
              "      <td>16.001780</td>\n",
              "      <td>...</td>\n",
              "      <td>2.0</td>\n",
              "      <td>8.33</td>\n",
              "      <td>9.457839</td>\n",
              "      <td>1.454763</td>\n",
              "      <td>3.178054</td>\n",
              "      <td>11.564350</td>\n",
              "      <td>10.713627</td>\n",
              "      <td>0.362997</td>\n",
              "      <td>9.188401</td>\n",
              "      <td>12.206078</td>\n",
              "    </tr>\n",
              "  </tbody>\n",
              "</table>\n",
              "<p>5 rows × 24 columns</p>\n",
              "</div>"
            ],
            "text/plain": [
              "               LocX                                         LocY            \\\n",
              "               mean        std         min        max       mean       std   \n",
              "cluster                                                                      \n",
              "0        -87.058112   7.755197 -118.467458 -65.292575  38.456533  4.498771   \n",
              "1        -82.003063   7.847847 -102.130157 -65.627617  38.010829  5.304068   \n",
              "2       -105.787166  13.066090 -174.196289 -77.151703  41.032444  6.302268   \n",
              "3        -83.714412   7.562093 -112.512796 -65.456036  38.495859  4.299596   \n",
              "4       -119.558092  10.137087 -171.700889 -99.798868  38.818924  6.841429   \n",
              "\n",
              "                                 RegDens             ... MeanHHSz        \\\n",
              "               min        max       mean        std  ...      min   max   \n",
              "cluster                                              ...                  \n",
              "0        18.311149  48.890886  30.167888   8.389872  ...      2.0  5.95   \n",
              "1        17.964529  47.943847  84.756723   8.364908  ...      2.0  4.73   \n",
              "2        19.101978  70.640902  11.995813   8.338773  ...      2.0  8.49   \n",
              "3        18.003125  48.999101  56.927935   7.896933  ...      2.0  7.31   \n",
              "4        19.516132  71.299525  78.504406  16.001780  ...      2.0  8.33   \n",
              "\n",
              "        RegPop_log                                MedHHInc_log            \\\n",
              "              mean       std       min        max         mean       std   \n",
              "cluster                                                                    \n",
              "0         7.224166  1.070892  1.386294  10.534573    10.398378  0.272836   \n",
              "1         9.156187  1.680513  2.564949  11.877735    10.667252  0.445704   \n",
              "2         6.439995  1.245891  1.386294  10.881174    10.361983  0.290514   \n",
              "3         8.169691  1.369204  2.833213  11.381529    10.559235  0.322196   \n",
              "4         9.457839  1.454763  3.178054  11.564350    10.713627  0.362997   \n",
              "\n",
              "                              \n",
              "              min        max  \n",
              "cluster                       \n",
              "0        7.823646  11.933857  \n",
              "1        7.823646  12.206078  \n",
              "2        7.823646  11.754365  \n",
              "3        7.823646  12.206078  \n",
              "4        9.188401  12.206078  \n",
              "\n",
              "[5 rows x 24 columns]"
            ]
          },
          "execution_count": 134,
          "metadata": {},
          "output_type": "execute_result"
        }
      ],
      "source": [
        "cluster_profiles.head()"
      ]
    },
    {
      "cell_type": "code",
      "execution_count": null,
      "metadata": {
        "id": "P-g5LE2CGGcp",
        "outputId": "86c41669-6a57-48e8-8dea-ebe6e6d684d8"
      },
      "outputs": [
        {
          "data": {
            "image/png": "[encoded data removed]",
            "text/plain": [
              "<Figure size 432x288 with 1 Axes>"
            ]
          },
          "metadata": {
            "needs_background": "light"
          },
          "output_type": "display_data"
        },
        {
          "data": {
            "image/png": "[encoded data removed]",
            "text/plain": [
              "<Figure size 432x288 with 1 Axes>"
            ]
          },
          "metadata": {
            "needs_background": "light"
          },
          "output_type": "display_data"
        },
        {
          "data": {
            "image/png": "[encoded data removed]",
            "text/plain": [
              "<Figure size 432x288 with 1 Axes>"
            ]
          },
          "metadata": {
            "needs_background": "light"
          },
          "output_type": "display_data"
        },
        {
          "data": {
            "image/png": "[encoded data removed]",
            "text/plain": [
              "<Figure size 432x288 with 1 Axes>"
            ]
          },
          "metadata": {
            "needs_background": "light"
          },
          "output_type": "display_data"
        }
      ],
      "source": [
        "sns.boxplot(x='cluster', y='RegPop_log', data=df_kmeans)\n",
        "plt.title(\"RegPop_log por Cluster\")\n",
        "plt.show()\n",
        "\n",
        "sns.boxplot(x='cluster', y='MedHHInc_log', data=df_kmeans)\n",
        "plt.title(\"MedHHInc_log por Cluster\")\n",
        "plt.show()\n",
        "\n",
        "sns.boxplot(x='cluster', y='RegDens', data=df_kmeans)\n",
        "plt.title(\"MedHHInc_log por Cluster\")\n",
        "plt.show()\n",
        "\n",
        "sns.boxplot(x='cluster', y='MeanHHSz', data=df_kmeans)\n",
        "plt.title(\"MedHHInc_log por Cluster\")\n",
        "plt.show()"
      ]
    },
    {
      "cell_type": "markdown",
      "metadata": {
        "id": "4SfNSHfkGGcp"
      },
      "source": [
        "# Conclusiones y recomendaciones\n",
        "\n",
        "* ¿Cuantos clusters has identificado?\n",
        "\n",
        "He identificado 5 clusters\n",
        "* ¿Qué les caracteriza a cada uno de ellos?\n",
        "* ¿Qué propuesta de tipología de tiendas propondrías?\n",
        "* ¿Que otros factores tendrías en cuenta para diseñar un plan de expansión de tiendas?"
      ]
    },
    {
      "cell_type": "markdown",
      "metadata": {
        "id": "Of43a_ZTGGcp"
      },
      "source": []
    }
  ],
  "metadata": {
    "anaconda-cloud": {},
    "kernelspec": {
      "display_name": "Python 3 (ipykernel)",
      "language": "python",
      "name": "python3"
    },
    "language_info": {
      "codemirror_mode": {
        "name": "ipython",
        "version": 3
      },
      "file_extension": ".py",
      "mimetype": "text/x-python",
      "name": "python",
      "nbconvert_exporter": "python",
      "pygments_lexer": "ipython3",
      "version": "3.9.12"
    },
    "toc": {
      "base_numbering": 1,
      "nav_menu": {},
      "number_sections": true,
      "sideBar": true,
      "skip_h1_title": false,
      "title_cell": "Table of Contents",
      "title_sidebar": "Contents",
      "toc_cell": false,
      "toc_position": {
        "height": "calc(100% - 180px)",
        "left": "10px",
        "top": "150px",
        "width": "165px"
      },
      "toc_section_display": true,
      "toc_window_display": false
    },
    "varInspector": {
      "cols": {
        "lenName": 16,
        "lenType": 16,
        "lenVar": 40
      },
      "kernels_config": {
        "python": {
          "delete_cmd_postfix": "",
          "delete_cmd_prefix": "del ",
          "library": "var_list.py",
          "varRefreshCmd": "print(var_dic_list())"
        },
        "r": {
          "delete_cmd_postfix": ") ",
          "delete_cmd_prefix": "rm(",
          "library": "var_list.r",
          "varRefreshCmd": "cat(var_dic_list()) "
        }
      },
      "types_to_exclude": [
        "module",
        "function",
        "builtin_function_or_method",
        "instance",
        "_Feature"
      ],
      "window_display": false
    },
    "colab": {
      "provenance": [],
      "include_colab_link": true
    }
  },
  "nbformat": 4,
  "nbformat_minor": 0
}